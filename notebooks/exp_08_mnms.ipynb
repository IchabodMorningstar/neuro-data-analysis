{
 "cells": [
  {
   "cell_type": "code",
   "execution_count": 1,
   "metadata": {},
   "outputs": [],
   "source": [
    "%load_ext autoreload\n",
    "%autoreload 2"
   ]
  },
  {
   "cell_type": "code",
   "execution_count": 3,
   "metadata": {},
   "outputs": [],
   "source": [
    "from data import *\n",
    "from features import *\n",
    "from stats import *\n",
    "from preprocess import *\n",
    "from model import *\n",
    "from step import *"
   ]
  },
  {
   "cell_type": "code",
   "execution_count": 4,
   "metadata": {},
   "outputs": [],
   "source": [
    "step = Step(load_mnm_spatial)"
   ]
  },
  {
   "cell_type": "code",
   "execution_count": 7,
   "metadata": {},
   "outputs": [],
   "source": [
    "raw_df = step()['raw_df']"
   ]
  },
  {
   "cell_type": "code",
   "execution_count": 10,
   "metadata": {},
   "outputs": [
    {
     "data": {
      "text/plain": [
       "cell\n",
       "NIN-PFC-MD-PRE-944      248\n",
       "NIN-PFC-MD-PRE-946      248\n",
       "NIN-PFC-MD-PRE-943      248\n",
       "NIN-PFC-AD-PRE-149      247\n",
       "NIN-PFC-AD-PRE-148      247\n",
       "NIN-PFC-AD-PRE-147      247\n",
       "NIN-PFC-AD-PRE-153      247\n",
       "NIN-PFC-MD-PRE-948      247\n",
       "NIN-PFC-AD-PRE-145      247\n",
       "NIN-PFC-AD-PRE-144      247\n",
       "NIN-PFC-AD-PRE-143      247\n",
       "NIN-PFC-AD-PRE-142      247\n",
       "NIN-PFC-AD-PRE-146      246\n",
       "NIN-PFC-AD-PRE-152      244\n",
       "NIN-PFC-MD-PRE-942      242\n",
       "NIN-PFC-MD-PRE-945      236\n",
       "NIN-PFC-AD-PRE-252      233\n",
       "NIN-PFC-AD-PRE-249      233\n",
       "NIN-PFC-AD-PRE-251      233\n",
       "NIN-PFC-AD-PRE-253      233\n",
       "NIN-PFC-MD-PRE-947      233\n",
       "NIN-PFC-AD-PRE-258      233\n",
       "NIN-PFC-AD-PRE-259      232\n",
       "NIN-PFC-AD-PRE-257      230\n",
       "NIN-PFC-AD-PRE-255      230\n",
       "NIN-PFC-AD-PRE-150      230\n",
       "NIN-PFC-AD-PRE-256      230\n",
       "NIN-PFC-AD-PRE-260      229\n",
       "NIN-PFC-AD-PRE-254      229\n",
       "NIN-PFC-MD-PRE-941      209\n",
       "NIN-PFC-AD-PRE-250      204\n",
       "NIN-PFC-AD-PRE-151      196\n",
       "NIN-PFC-AV-POST-2938    185\n",
       "NIN-PFC-AV-POST-2939    185\n",
       "NIN-PFC-AV-POST-2935    185\n",
       "NIN-PFC-AD-POST-2940    183\n",
       "NIN-PFC-AV-POST-2937    177\n",
       "NIN-PFC-MD-POST-2864    170\n",
       "NIN-PFC-MD-POST-2861    170\n",
       "NIN-PFC-AV-POST-2865    170\n",
       "NIN-PFC-MD-POST-2862    170\n",
       "NIN-PFC-MD-POST-2863    167\n",
       "MAN-PFC-AD-PRE-54       163\n",
       "MAN-PFC-AD-PRE-56       163\n",
       "MAN-PFC-AD-PRE-55       163\n",
       "NIN-PFC-MD-POST-2860    161\n",
       "MAN-PFC-PD-PRE-1199     161\n",
       "MAN-PFC-PD-PRE-1201     161\n",
       "ELV-PFC-PD-POST-2155    160\n",
       "NIN-PFC-MD-PRE-978      160\n",
       "Name: count, dtype: int64"
      ]
     },
     "execution_count": 10,
     "metadata": {},
     "output_type": "execute_result"
    }
   ],
   "source": [
    "raw_df.value_counts('cell').head(50)"
   ]
  }
 ],
 "metadata": {
  "kernelspec": {
   "display_name": "nda2",
   "language": "python",
   "name": "python3"
  },
  "language_info": {
   "codemirror_mode": {
    "name": "ipython",
    "version": 3
   },
   "file_extension": ".py",
   "mimetype": "text/x-python",
   "name": "python",
   "nbconvert_exporter": "python",
   "pygments_lexer": "ipython3",
   "version": "3.12.4"
  }
 },
 "nbformat": 4,
 "nbformat_minor": 2
}
