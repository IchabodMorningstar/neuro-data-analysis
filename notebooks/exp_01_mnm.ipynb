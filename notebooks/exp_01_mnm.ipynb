{
 "cells": [
  {
   "cell_type": "code",
   "execution_count": 39,
   "metadata": {},
   "outputs": [
    {
     "name": "stdout",
     "output_type": "stream",
     "text": [
      "The autoreload extension is already loaded. To reload it, use:\n",
      "  %reload_ext autoreload\n"
     ]
    }
   ],
   "source": [
    "%load_ext autoreload\n",
    "%autoreload 2"
   ]
  },
  {
   "cell_type": "code",
   "execution_count": 40,
   "metadata": {},
   "outputs": [],
   "source": [
    "from data import *\n",
    "from features import *\n",
    "from stats import *\n",
    "from preprocess import *\n",
    "from step import Step\n",
    "import tempfile\n",
    "from pathlib import Path\n",
    "from matplotlib import pyplot as plt\n",
    "import numpy as np"
   ]
  },
  {
   "cell_type": "code",
   "execution_count": 41,
   "metadata": {},
   "outputs": [],
   "source": [
    "step = Step(load_msng)\n",
    "# step = Step(load_mnm_spatial)\n",
    "# step = Step(load_mnm_feature)\n",
    "step = Step(gt_n_trials, step, n=8)\n",
    "# step = Step(subset, step, key='monkey', value='ADR')\n",
    "step = Step(win_cts_by_trial, step, win_start=1500, win_end=6000, win_size=500, win_stride=500)\n",
    "step = Step(win_cts_by_win, step)\n",
    "step = Step(stat_tests, step, opposite=True)\n",
    "step = Step(sig_stat, step, stat='anova_p', alpha=1e-2)\n",
    "# step = Step(select, step)\n",
    "# tvt = Step(tvt_split, sel, num_splits=10, num_val=1, num_test=1)\n",
    "# samp = Step(gen_samples, tvt, num_train=50, num_val=1, num_test=1)"
   ]
  },
  {
   "cell_type": "code",
   "execution_count": 43,
   "metadata": {},
   "outputs": [],
   "source": [
    "stats = step()['stats_by_cell_win']"
   ]
  },
  {
   "cell_type": "code",
   "execution_count": 49,
   "metadata": {},
   "outputs": [
    {
     "data": {
      "text/html": [
       "<div>\n",
       "<style scoped>\n",
       "    .dataframe tbody tr th:only-of-type {\n",
       "        vertical-align: middle;\n",
       "    }\n",
       "\n",
       "    .dataframe tbody tr th {\n",
       "        vertical-align: top;\n",
       "    }\n",
       "\n",
       "    .dataframe thead th {\n",
       "        text-align: right;\n",
       "    }\n",
       "</style>\n",
       "<table border=\"1\" class=\"dataframe\">\n",
       "  <thead>\n",
       "    <tr style=\"text-align: right;\">\n",
       "      <th></th>\n",
       "      <th></th>\n",
       "      <th>t_p</th>\n",
       "      <th>min_t_p</th>\n",
       "      <th>min_t_p_pos</th>\n",
       "      <th>anova_p</th>\n",
       "      <th>kruskal_p</th>\n",
       "    </tr>\n",
       "    <tr>\n",
       "      <th>cell</th>\n",
       "      <th>win</th>\n",
       "      <th></th>\n",
       "      <th></th>\n",
       "      <th></th>\n",
       "      <th></th>\n",
       "      <th></th>\n",
       "    </tr>\n",
       "  </thead>\n",
       "  <tbody>\n",
       "    <tr>\n",
       "      <th>KEN-PFC-46-20</th>\n",
       "      <th>8</th>\n",
       "      <td>[999, 0.5304882395934163, 0.9687481771301241, ...</td>\n",
       "      <td>0.004042</td>\n",
       "      <td>10</td>\n",
       "      <td>1.641427e-06</td>\n",
       "      <td>1.098656e-05</td>\n",
       "    </tr>\n",
       "    <tr>\n",
       "      <th>KEN-PFC-46-530</th>\n",
       "      <th>7</th>\n",
       "      <td>[0.6296470685355061, 0.2193361647100156, 0.932...</td>\n",
       "      <td>0.003313</td>\n",
       "      <td>11</td>\n",
       "      <td>1.995523e-06</td>\n",
       "      <td>4.740816e-05</td>\n",
       "    </tr>\n",
       "    <tr>\n",
       "      <th>KEN-PFC-46-539</th>\n",
       "      <th>8</th>\n",
       "      <td>[0.626700750459552, 999, 999, 0.53843587827925...</td>\n",
       "      <td>0.107875</td>\n",
       "      <td>13</td>\n",
       "      <td>5.787102e-08</td>\n",
       "      <td>1.122360e-07</td>\n",
       "    </tr>\n",
       "    <tr>\n",
       "      <th>KEN-PFC-46-57</th>\n",
       "      <th>7</th>\n",
       "      <td>[0.7212582482661472, 0.5497448302557175, 1.0, ...</td>\n",
       "      <td>0.068277</td>\n",
       "      <td>12</td>\n",
       "      <td>6.821938e-11</td>\n",
       "      <td>1.130313e-08</td>\n",
       "    </tr>\n",
       "    <tr>\n",
       "      <th>KEN-PFC-46-60</th>\n",
       "      <th>6</th>\n",
       "      <td>[0.020723032774809767, 999, 0.2769957159753494...</td>\n",
       "      <td>0.000042</td>\n",
       "      <td>10</td>\n",
       "      <td>3.184197e-06</td>\n",
       "      <td>1.540997e-05</td>\n",
       "    </tr>\n",
       "    <tr>\n",
       "      <th>...</th>\n",
       "      <th>...</th>\n",
       "      <td>...</td>\n",
       "      <td>...</td>\n",
       "      <td>...</td>\n",
       "      <td>...</td>\n",
       "      <td>...</td>\n",
       "    </tr>\n",
       "    <tr>\n",
       "      <th>LEM-PPC-PPC-882</th>\n",
       "      <th>7</th>\n",
       "      <td>[999, 0.0766375821616509, 999, 999, 0.57365396...</td>\n",
       "      <td>0.008826</td>\n",
       "      <td>7</td>\n",
       "      <td>1.188922e-12</td>\n",
       "      <td>9.030345e-10</td>\n",
       "    </tr>\n",
       "    <tr>\n",
       "      <th>LEM-PPC-PPC-887</th>\n",
       "      <th>7</th>\n",
       "      <td>[999, 0.7987776837370704, 999, 999, 0.14474339...</td>\n",
       "      <td>0.144743</td>\n",
       "      <td>4</td>\n",
       "      <td>2.496370e-08</td>\n",
       "      <td>1.759657e-07</td>\n",
       "    </tr>\n",
       "    <tr>\n",
       "      <th>LEM-PPC-PPC-888</th>\n",
       "      <th>7</th>\n",
       "      <td>[0.1768796480794003, 0.6685700062935436, 999, ...</td>\n",
       "      <td>0.176880</td>\n",
       "      <td>0</td>\n",
       "      <td>5.357432e-18</td>\n",
       "      <td>1.107415e-12</td>\n",
       "    </tr>\n",
       "    <tr>\n",
       "      <th>LEM-PPC-PPC-900</th>\n",
       "      <th>7</th>\n",
       "      <td>[999, 999, 999, 0.8159476071294385, 0.05526225...</td>\n",
       "      <td>0.044215</td>\n",
       "      <td>14</td>\n",
       "      <td>6.204414e-06</td>\n",
       "      <td>5.220039e-06</td>\n",
       "    </tr>\n",
       "    <tr>\n",
       "      <th>LEM-PPC-PPC-902</th>\n",
       "      <th>7</th>\n",
       "      <td>[999, 0.4975405291192392, 999, 999, 0.87151745...</td>\n",
       "      <td>0.116697</td>\n",
       "      <td>6</td>\n",
       "      <td>5.951720e-16</td>\n",
       "      <td>2.024712e-12</td>\n",
       "    </tr>\n",
       "  </tbody>\n",
       "</table>\n",
       "<p>171 rows × 5 columns</p>\n",
       "</div>"
      ],
      "text/plain": [
       "                                                                   t_p  \\\n",
       "cell            win                                                      \n",
       "KEN-PFC-46-20   8    [999, 0.5304882395934163, 0.9687481771301241, ...   \n",
       "KEN-PFC-46-530  7    [0.6296470685355061, 0.2193361647100156, 0.932...   \n",
       "KEN-PFC-46-539  8    [0.626700750459552, 999, 999, 0.53843587827925...   \n",
       "KEN-PFC-46-57   7    [0.7212582482661472, 0.5497448302557175, 1.0, ...   \n",
       "KEN-PFC-46-60   6    [0.020723032774809767, 999, 0.2769957159753494...   \n",
       "...                                                                ...   \n",
       "LEM-PPC-PPC-882 7    [999, 0.0766375821616509, 999, 999, 0.57365396...   \n",
       "LEM-PPC-PPC-887 7    [999, 0.7987776837370704, 999, 999, 0.14474339...   \n",
       "LEM-PPC-PPC-888 7    [0.1768796480794003, 0.6685700062935436, 999, ...   \n",
       "LEM-PPC-PPC-900 7    [999, 999, 999, 0.8159476071294385, 0.05526225...   \n",
       "LEM-PPC-PPC-902 7    [999, 0.4975405291192392, 999, 999, 0.87151745...   \n",
       "\n",
       "                      min_t_p  min_t_p_pos       anova_p     kruskal_p  \n",
       "cell            win                                                     \n",
       "KEN-PFC-46-20   8    0.004042           10  1.641427e-06  1.098656e-05  \n",
       "KEN-PFC-46-530  7    0.003313           11  1.995523e-06  4.740816e-05  \n",
       "KEN-PFC-46-539  8    0.107875           13  5.787102e-08  1.122360e-07  \n",
       "KEN-PFC-46-57   7    0.068277           12  6.821938e-11  1.130313e-08  \n",
       "KEN-PFC-46-60   6    0.000042           10  3.184197e-06  1.540997e-05  \n",
       "...                       ...          ...           ...           ...  \n",
       "LEM-PPC-PPC-882 7    0.008826            7  1.188922e-12  9.030345e-10  \n",
       "LEM-PPC-PPC-887 7    0.144743            4  2.496370e-08  1.759657e-07  \n",
       "LEM-PPC-PPC-888 7    0.176880            0  5.357432e-18  1.107415e-12  \n",
       "LEM-PPC-PPC-900 7    0.044215           14  6.204414e-06  5.220039e-06  \n",
       "LEM-PPC-PPC-902 7    0.116697            6  5.951720e-16  2.024712e-12  \n",
       "\n",
       "[171 rows x 5 columns]"
      ]
     },
     "execution_count": 49,
     "metadata": {},
     "output_type": "execute_result"
    }
   ],
   "source": [
    "stats[stats.anova_p < 1e-5]"
   ]
  },
  {
   "cell_type": "code",
   "execution_count": 45,
   "metadata": {},
   "outputs": [
    {
     "data": {
      "text/plain": [
       "min_t_p_pos\n",
       "2     62\n",
       "4     48\n",
       "10    43\n",
       "8     43\n",
       "3     42\n",
       "1     36\n",
       "9     34\n",
       "14    32\n",
       "7     29\n",
       "11    24\n",
       "0     24\n",
       "12    23\n",
       "5     23\n",
       "15    21\n",
       "6     21\n",
       "13    20\n",
       "Name: count, dtype: int64"
      ]
     },
     "execution_count": 45,
     "metadata": {},
     "output_type": "execute_result"
    }
   ],
   "source": [
    "stats[stats.anova_p < 1e-2].min_t_p_pos.value_counts()"
   ]
  },
  {
   "cell_type": "code",
   "execution_count": 50,
   "metadata": {},
   "outputs": [
    {
     "data": {
      "text/plain": [
       "<Axes: title={'center': 'win_cts'}, xlabel='position'>"
      ]
     },
     "execution_count": 50,
     "metadata": {},
     "output_type": "execute_result"
    },
    {
     "data": {
      "image/png": "[encoded data removed]",
      "text/plain": [
       "<Figure size 640x480 with 1 Axes>"
      ]
     },
     "metadata": {},
     "output_type": "display_data"
    }
   ],
   "source": [
    "wcbw_step()['win_cts'].loc['ADR-PFC-PD-POST-1914', :, :, 7].boxplot(by='position', column='win_cts')"
   ]
  },
  {
   "cell_type": "code",
   "execution_count": 13,
   "metadata": {},
   "outputs": [
    {
     "data": {
      "text/html": [
       "<div>\n",
       "<style scoped>\n",
       "    .dataframe tbody tr th:only-of-type {\n",
       "        vertical-align: middle;\n",
       "    }\n",
       "\n",
       "    .dataframe tbody tr th {\n",
       "        vertical-align: top;\n",
       "    }\n",
       "\n",
       "    .dataframe thead th {\n",
       "        text-align: right;\n",
       "    }\n",
       "</style>\n",
       "<table border=\"1\" class=\"dataframe\">\n",
       "  <thead>\n",
       "    <tr style=\"text-align: right;\">\n",
       "      <th></th>\n",
       "      <th></th>\n",
       "      <th>ismatch</th>\n",
       "      <th>win_cts</th>\n",
       "    </tr>\n",
       "    <tr>\n",
       "      <th>position</th>\n",
       "      <th>trial</th>\n",
       "      <th></th>\n",
       "      <th></th>\n",
       "    </tr>\n",
       "  </thead>\n",
       "  <tbody>\n",
       "    <tr>\n",
       "      <th rowspan=\"5\" valign=\"top\">0</th>\n",
       "      <th>0</th>\n",
       "      <td>0</td>\n",
       "      <td>25.0</td>\n",
       "    </tr>\n",
       "    <tr>\n",
       "      <th>1</th>\n",
       "      <td>1</td>\n",
       "      <td>15.0</td>\n",
       "    </tr>\n",
       "    <tr>\n",
       "      <th>2</th>\n",
       "      <td>0</td>\n",
       "      <td>19.0</td>\n",
       "    </tr>\n",
       "    <tr>\n",
       "      <th>3</th>\n",
       "      <td>1</td>\n",
       "      <td>14.0</td>\n",
       "    </tr>\n",
       "    <tr>\n",
       "      <th>4</th>\n",
       "      <td>0</td>\n",
       "      <td>16.0</td>\n",
       "    </tr>\n",
       "    <tr>\n",
       "      <th>...</th>\n",
       "      <th>...</th>\n",
       "      <td>...</td>\n",
       "      <td>...</td>\n",
       "    </tr>\n",
       "    <tr>\n",
       "      <th rowspan=\"5\" valign=\"top\">7</th>\n",
       "      <th>7</th>\n",
       "      <td>1</td>\n",
       "      <td>25.0</td>\n",
       "    </tr>\n",
       "    <tr>\n",
       "      <th>8</th>\n",
       "      <td>1</td>\n",
       "      <td>17.0</td>\n",
       "    </tr>\n",
       "    <tr>\n",
       "      <th>9</th>\n",
       "      <td>1</td>\n",
       "      <td>11.0</td>\n",
       "    </tr>\n",
       "    <tr>\n",
       "      <th>10</th>\n",
       "      <td>0</td>\n",
       "      <td>5.0</td>\n",
       "    </tr>\n",
       "    <tr>\n",
       "      <th>11</th>\n",
       "      <td>0</td>\n",
       "      <td>15.0</td>\n",
       "    </tr>\n",
       "  </tbody>\n",
       "</table>\n",
       "<p>96 rows × 2 columns</p>\n",
       "</div>"
      ],
      "text/plain": [
       "                ismatch win_cts\n",
       "position trial                 \n",
       "0        0            0    25.0\n",
       "         1            1    15.0\n",
       "         2            0    19.0\n",
       "         3            1    14.0\n",
       "         4            0    16.0\n",
       "...                 ...     ...\n",
       "7        7            1    25.0\n",
       "         8            1    17.0\n",
       "         9            1    11.0\n",
       "         10           0     5.0\n",
       "         11           0    15.0\n",
       "\n",
       "[96 rows x 2 columns]"
      ]
     },
     "execution_count": 13,
     "metadata": {},
     "output_type": "execute_result"
    }
   ],
   "source": [
    "df = wcbw_step()['win_cts'].loc['ELV-PFC-PV-POST-2346', :, :, 7]\n",
    "df"
   ]
  },
  {
   "cell_type": "code",
   "execution_count": 14,
   "metadata": {},
   "outputs": [
    {
     "data": {
      "text/plain": [
       "Index([0, 0, 0, 0, 0, 0, 0, 0, 0, 0, 0, 0, 1, 1, 1, 1, 1, 1, 1, 1, 1, 1, 1, 1,\n",
       "       2, 2, 2, 2, 2, 2, 2, 2, 2, 2, 2, 2, 3, 3, 3, 3, 3, 3, 3, 3, 3, 3, 3, 3,\n",
       "       4, 4, 4, 4, 4, 4, 4, 4, 4, 4, 4, 4, 5, 5, 5, 5, 5, 5, 5, 5, 5, 5, 5, 5,\n",
       "       6, 6, 6, 6, 6, 6, 6, 6, 6, 6, 6, 6, 7, 7, 7, 7, 7, 7, 7, 7, 7, 7, 7, 7],\n",
       "      dtype='int64', name='position')"
      ]
     },
     "execution_count": 14,
     "metadata": {},
     "output_type": "execute_result"
    }
   ],
   "source": [
    "df.index.get_level_values('position')"
   ]
  },
  {
   "cell_type": "code",
   "execution_count": 15,
   "metadata": {},
   "outputs": [
    {
     "data": {
      "image/png": "[encoded data removed]",
      "text/plain": [
       "<Figure size 640x480 with 1 Axes>"
      ]
     },
     "metadata": {},
     "output_type": "display_data"
    }
   ],
   "source": [
    "# polar scatter plot\n",
    "import matplotlib.pyplot as plt\n",
    "\n",
    "fig, ax = plt.subplots(subplot_kw={'projection': 'polar'})\n",
    "plt.scatter(df[df.ismatch == 1].index.get_level_values('position') * np.pi / 4, df[df.ismatch == 1].win_cts, zorder=3, s=1, c='b')\n",
    "plt.scatter(df[df.ismatch == 0].index.get_level_values('position') * np.pi / 4, df[df.ismatch == 0].win_cts, zorder=3, s=1, c='r')\n",
    "plt.grid(color='#eee', linestyle='-', linewidth=0.5)"
   ]
  },
  {
   "cell_type": "code",
   "execution_count": 16,
   "metadata": {},
   "outputs": [
    {
     "data": {
      "text/plain": [
       "<Axes: title={'center': 'win_cts'}, xlabel='position'>"
      ]
     },
     "execution_count": 16,
     "metadata": {},
     "output_type": "execute_result"
    },
    {
     "data": {
      "image/png": "[encoded data removed]",
      "text/plain": [
       "<Figure size 640x480 with 1 Axes>"
      ]
     },
     "metadata": {},
     "output_type": "display_data"
    }
   ],
   "source": [
    "wcbw_step()['win_cts'].loc['ELV-PFC-MD-POST-2599', :, :, 7].boxplot(by='position', column='win_cts')"
   ]
  },
  {
   "cell_type": "code",
   "execution_count": 17,
   "metadata": {},
   "outputs": [
    {
     "data": {
      "text/plain": [
       "<Axes: title={'center': 'win_cts'}, xlabel='position'>"
      ]
     },
     "execution_count": 17,
     "metadata": {},
     "output_type": "execute_result"
    },
    {
     "data": {
      "image/png": "[encoded data removed]",
      "text/plain": [
       "<Figure size 640x480 with 1 Axes>"
      ]
     },
     "metadata": {},
     "output_type": "display_data"
    }
   ],
   "source": [
    "wcbw_step()['win_cts'].loc['BEN-PFC-MD-PRE-501', :, :, 7].boxplot(by='position', column='win_cts')"
   ]
  },
  {
   "cell_type": "code",
   "execution_count": 32,
   "metadata": {},
   "outputs": [],
   "source": [
    "# for cell, win in stats[stats.anova_p < 1e-16].index:\n",
    "#     wcbw_step()['win_cts'].loc[cell, :, :, win].boxplot(by='position', column='win_cts')"
   ]
  },
  {
   "cell_type": "code",
   "execution_count": 33,
   "metadata": {},
   "outputs": [],
   "source": [
    "# for cell, win in stats[stats.min_t_p < 1e-14].index:\n",
    "#     wcbw_step()['win_cts'].loc[cell, :, :, win].boxplot(by='position', column='win_cts')"
   ]
  },
  {
   "cell_type": "code",
   "execution_count": 31,
   "metadata": {},
   "outputs": [
    {
     "data": {
      "text/html": [
       "<div>\n",
       "<style scoped>\n",
       "    .dataframe tbody tr th:only-of-type {\n",
       "        vertical-align: middle;\n",
       "    }\n",
       "\n",
       "    .dataframe tbody tr th {\n",
       "        vertical-align: top;\n",
       "    }\n",
       "\n",
       "    .dataframe thead th {\n",
       "        text-align: right;\n",
       "    }\n",
       "</style>\n",
       "<table border=\"1\" class=\"dataframe\">\n",
       "  <thead>\n",
       "    <tr style=\"text-align: right;\">\n",
       "      <th></th>\n",
       "      <th></th>\n",
       "      <th>t_p</th>\n",
       "      <th>min_t_p</th>\n",
       "      <th>min_t_p_pos</th>\n",
       "      <th>anova_p</th>\n",
       "      <th>kruskal_p</th>\n",
       "    </tr>\n",
       "    <tr>\n",
       "      <th>cell</th>\n",
       "      <th>win</th>\n",
       "      <th></th>\n",
       "      <th></th>\n",
       "      <th></th>\n",
       "      <th></th>\n",
       "      <th></th>\n",
       "    </tr>\n",
       "  </thead>\n",
       "  <tbody>\n",
       "    <tr>\n",
       "      <th>ADR-PFC-PD-PRE-1093</th>\n",
       "      <th>0</th>\n",
       "      <td>[0.0940178877155462, 0.3813401038558516, 0.737...</td>\n",
       "      <td>1.975375e-15</td>\n",
       "      <td>2</td>\n",
       "      <td>2.823537e-11</td>\n",
       "      <td>1.800711e-06</td>\n",
       "    </tr>\n",
       "    <tr>\n",
       "      <th rowspan=\"2\" valign=\"top\">BEN-PFC-MD-PRE-501</th>\n",
       "      <th>0</th>\n",
       "      <td>[4.005173671907311e-33, 0.048669890543056336, ...</td>\n",
       "      <td>4.005174e-33</td>\n",
       "      <td>5</td>\n",
       "      <td>1.038740e-28</td>\n",
       "      <td>1.720220e-09</td>\n",
       "    </tr>\n",
       "    <tr>\n",
       "      <th>1</th>\n",
       "      <td>[1.4260642142780658e-15, 0.029581946488873072,...</td>\n",
       "      <td>1.426064e-15</td>\n",
       "      <td>4</td>\n",
       "      <td>5.599834e-13</td>\n",
       "      <td>2.551116e-06</td>\n",
       "    </tr>\n",
       "    <tr>\n",
       "      <th>ELV-PFC-MD-POST-2015</th>\n",
       "      <th>2</th>\n",
       "      <td>[0.8662520828773135, 0.14902737371867036, 0.32...</td>\n",
       "      <td>2.395844e-25</td>\n",
       "      <td>0</td>\n",
       "      <td>3.063865e-21</td>\n",
       "      <td>5.286946e-10</td>\n",
       "    </tr>\n",
       "    <tr>\n",
       "      <th>ELV-PFC-MD-POST-2177</th>\n",
       "      <th>6</th>\n",
       "      <td>[0.6016343053502227, 0.24337600602760565, 0.05...</td>\n",
       "      <td>2.581820e-15</td>\n",
       "      <td>3</td>\n",
       "      <td>1.247233e-11</td>\n",
       "      <td>2.482771e-04</td>\n",
       "    </tr>\n",
       "    <tr>\n",
       "      <th>ELV-PFC-MD-POST-2259</th>\n",
       "      <th>2</th>\n",
       "      <td>[2.150123064389673e-15, 0.030594308961393996, ...</td>\n",
       "      <td>2.150123e-15</td>\n",
       "      <td>6</td>\n",
       "      <td>2.733224e-29</td>\n",
       "      <td>2.338788e-17</td>\n",
       "    </tr>\n",
       "    <tr>\n",
       "      <th>ELV-PFC-MD-POST-2431</th>\n",
       "      <th>3</th>\n",
       "      <td>[0.34666567282294025, 0.17736458249406087, 0.2...</td>\n",
       "      <td>1.036908e-16</td>\n",
       "      <td>3</td>\n",
       "      <td>3.830236e-12</td>\n",
       "      <td>2.481589e-07</td>\n",
       "    </tr>\n",
       "    <tr>\n",
       "      <th>ELV-PFC-MD-POST-2432</th>\n",
       "      <th>0</th>\n",
       "      <td>[0.10452627120778431, 0.12460047451891035, 0.4...</td>\n",
       "      <td>1.106956e-15</td>\n",
       "      <td>5</td>\n",
       "      <td>8.811382e-12</td>\n",
       "      <td>4.187701e-05</td>\n",
       "    </tr>\n",
       "    <tr>\n",
       "      <th>ELV-PFC-MD-POST-2542</th>\n",
       "      <th>0</th>\n",
       "      <td>[0.1327058848060894, 0.010959323793571746, 0.1...</td>\n",
       "      <td>1.121909e-19</td>\n",
       "      <td>3</td>\n",
       "      <td>1.483956e-18</td>\n",
       "      <td>1.108779e-10</td>\n",
       "    </tr>\n",
       "    <tr>\n",
       "      <th>ELV-PFC-MD-PRE-688</th>\n",
       "      <th>0</th>\n",
       "      <td>[0.08143394368911543, 0.16576993524812553, 0.2...</td>\n",
       "      <td>1.473574e-18</td>\n",
       "      <td>3</td>\n",
       "      <td>2.345130e-15</td>\n",
       "      <td>3.914182e-06</td>\n",
       "    </tr>\n",
       "    <tr>\n",
       "      <th>ELV-PFC-MD-PRE-693</th>\n",
       "      <th>0</th>\n",
       "      <td>[0.3112319171496729, 0.006474491341891022, 0.0...</td>\n",
       "      <td>4.281715e-16</td>\n",
       "      <td>5</td>\n",
       "      <td>7.214998e-18</td>\n",
       "      <td>5.621726e-13</td>\n",
       "    </tr>\n",
       "    <tr>\n",
       "      <th>ELV-PFC-MD-PRE-696</th>\n",
       "      <th>0</th>\n",
       "      <td>[0.9316817916284655, 0.0013803674783307695, 0....</td>\n",
       "      <td>4.984586e-17</td>\n",
       "      <td>0</td>\n",
       "      <td>1.408959e-15</td>\n",
       "      <td>2.911795e-11</td>\n",
       "    </tr>\n",
       "    <tr>\n",
       "      <th>ELV-PFC-PD-PRE-1166</th>\n",
       "      <th>2</th>\n",
       "      <td>[0.3383589387022371, 5.2002749996175724e-17, 0...</td>\n",
       "      <td>5.200275e-17</td>\n",
       "      <td>4</td>\n",
       "      <td>1.156461e-12</td>\n",
       "      <td>1.073344e-07</td>\n",
       "    </tr>\n",
       "    <tr>\n",
       "      <th>ELV-PFC-PV-POST-2277</th>\n",
       "      <th>0</th>\n",
       "      <td>[0.006214081296045617, 0.14237656080627448, 0....</td>\n",
       "      <td>4.734672e-15</td>\n",
       "      <td>3</td>\n",
       "      <td>5.266756e-13</td>\n",
       "      <td>1.669502e-07</td>\n",
       "    </tr>\n",
       "  </tbody>\n",
       "</table>\n",
       "</div>"
      ],
      "text/plain": [
       "                                                                        t_p  \\\n",
       "cell                 win                                                      \n",
       "ADR-PFC-PD-PRE-1093  0    [0.0940178877155462, 0.3813401038558516, 0.737...   \n",
       "BEN-PFC-MD-PRE-501   0    [4.005173671907311e-33, 0.048669890543056336, ...   \n",
       "                     1    [1.4260642142780658e-15, 0.029581946488873072,...   \n",
       "ELV-PFC-MD-POST-2015 2    [0.8662520828773135, 0.14902737371867036, 0.32...   \n",
       "ELV-PFC-MD-POST-2177 6    [0.6016343053502227, 0.24337600602760565, 0.05...   \n",
       "ELV-PFC-MD-POST-2259 2    [2.150123064389673e-15, 0.030594308961393996, ...   \n",
       "ELV-PFC-MD-POST-2431 3    [0.34666567282294025, 0.17736458249406087, 0.2...   \n",
       "ELV-PFC-MD-POST-2432 0    [0.10452627120778431, 0.12460047451891035, 0.4...   \n",
       "ELV-PFC-MD-POST-2542 0    [0.1327058848060894, 0.010959323793571746, 0.1...   \n",
       "ELV-PFC-MD-PRE-688   0    [0.08143394368911543, 0.16576993524812553, 0.2...   \n",
       "ELV-PFC-MD-PRE-693   0    [0.3112319171496729, 0.006474491341891022, 0.0...   \n",
       "ELV-PFC-MD-PRE-696   0    [0.9316817916284655, 0.0013803674783307695, 0....   \n",
       "ELV-PFC-PD-PRE-1166  2    [0.3383589387022371, 5.2002749996175724e-17, 0...   \n",
       "ELV-PFC-PV-POST-2277 0    [0.006214081296045617, 0.14237656080627448, 0....   \n",
       "\n",
       "                               min_t_p  min_t_p_pos       anova_p  \\\n",
       "cell                 win                                            \n",
       "ADR-PFC-PD-PRE-1093  0    1.975375e-15            2  2.823537e-11   \n",
       "BEN-PFC-MD-PRE-501   0    4.005174e-33            5  1.038740e-28   \n",
       "                     1    1.426064e-15            4  5.599834e-13   \n",
       "ELV-PFC-MD-POST-2015 2    2.395844e-25            0  3.063865e-21   \n",
       "ELV-PFC-MD-POST-2177 6    2.581820e-15            3  1.247233e-11   \n",
       "ELV-PFC-MD-POST-2259 2    2.150123e-15            6  2.733224e-29   \n",
       "ELV-PFC-MD-POST-2431 3    1.036908e-16            3  3.830236e-12   \n",
       "ELV-PFC-MD-POST-2432 0    1.106956e-15            5  8.811382e-12   \n",
       "ELV-PFC-MD-POST-2542 0    1.121909e-19            3  1.483956e-18   \n",
       "ELV-PFC-MD-PRE-688   0    1.473574e-18            3  2.345130e-15   \n",
       "ELV-PFC-MD-PRE-693   0    4.281715e-16            5  7.214998e-18   \n",
       "ELV-PFC-MD-PRE-696   0    4.984586e-17            0  1.408959e-15   \n",
       "ELV-PFC-PD-PRE-1166  2    5.200275e-17            4  1.156461e-12   \n",
       "ELV-PFC-PV-POST-2277 0    4.734672e-15            3  5.266756e-13   \n",
       "\n",
       "                             kruskal_p  \n",
       "cell                 win                \n",
       "ADR-PFC-PD-PRE-1093  0    1.800711e-06  \n",
       "BEN-PFC-MD-PRE-501   0    1.720220e-09  \n",
       "                     1    2.551116e-06  \n",
       "ELV-PFC-MD-POST-2015 2    5.286946e-10  \n",
       "ELV-PFC-MD-POST-2177 6    2.482771e-04  \n",
       "ELV-PFC-MD-POST-2259 2    2.338788e-17  \n",
       "ELV-PFC-MD-POST-2431 3    2.481589e-07  \n",
       "ELV-PFC-MD-POST-2432 0    4.187701e-05  \n",
       "ELV-PFC-MD-POST-2542 0    1.108779e-10  \n",
       "ELV-PFC-MD-PRE-688   0    3.914182e-06  \n",
       "ELV-PFC-MD-PRE-693   0    5.621726e-13  \n",
       "ELV-PFC-MD-PRE-696   0    2.911795e-11  \n",
       "ELV-PFC-PD-PRE-1166  2    1.073344e-07  \n",
       "ELV-PFC-PV-POST-2277 0    1.669502e-07  "
      ]
     },
     "execution_count": 31,
     "metadata": {},
     "output_type": "execute_result"
    }
   ],
   "source": [
    "stats[stats.min_t_p < 1e-14]"
   ]
  }
 ],
 "metadata": {
  "kernelspec": {
   "display_name": "neuro-data",
   "language": "python",
   "name": "python3"
  },
  "language_info": {
   "codemirror_mode": {
    "name": "ipython",
    "version": 3
   },
   "file_extension": ".py",
   "mimetype": "text/x-python",
   "name": "python",
   "nbconvert_exporter": "python",
   "pygments_lexer": "ipython3",
   "version": "3.12.4"
  }
 },
 "nbformat": 4,
 "nbformat_minor": 2
}
