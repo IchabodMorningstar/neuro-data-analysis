{
 "cells": [
  {
   "cell_type": "code",
   "execution_count": 19,
   "metadata": {},
   "outputs": [
    {
     "name": "stdout",
     "output_type": "stream",
     "text": [
      "The autoreload extension is already loaded. To reload it, use:\n",
      "  %reload_ext autoreload\n"
     ]
    }
   ],
   "source": [
    "%load_ext autoreload\n",
    "%autoreload 2"
   ]
  },
  {
   "cell_type": "code",
   "execution_count": 20,
   "metadata": {},
   "outputs": [],
   "source": [
    "from data import *\n",
    "from features import *\n",
    "from preprocess import *\n",
    "from stats import *\n",
    "from model import *\n",
    "from step import *\n",
    "import mlflow\n",
    "import lightning as L\n",
    "import logging\n",
    "import math\n",
    "import optuna\n",
    "from functools import partial\n",
    "import sklearn.linear_model, sklearn.neighbors\n",
    "from lightning.pytorch.callbacks import ModelCheckpoint\n",
    "import tempfile\n",
    "from pathlib import Path\n",
    "import torch"
   ]
  },
  {
   "cell_type": "code",
   "execution_count": 21,
   "metadata": {},
   "outputs": [],
   "source": [
    "def prepare_data(data_func, monkey, area, subregion, phase, wins, num_samples, alpha, cell):\n",
    "    # 0-1000 fixation, 1000-1500 cue, 1500-3000 delay, 3000-3500 sample, 3500-5000 delay2, 5000-6000 saccade\n",
    "    # num_wins = math.floor((6000 - win_size - win_start) / win_stride) + 1\n",
    "\n",
    "    step = Step(data_func)\n",
    "    if monkey: step = Step(subset, step, key='monkey', value=monkey)\n",
    "    if area: step = Step(subset, step, key='area', value=area)\n",
    "    if subregion: step = Step(subset, step, key='subregion', value=subregion)\n",
    "    if phase: step = Step(subset, step, key='phase', value=phase)\n",
    "    if cell: step = Step(subset, step, key='cell', value=cell)\n",
    "    step = Step(gt_n_trials, step, n=8)\n",
    "    step = Step(win_cts_by_trial, step, wins=wins)\n",
    "    step = Step(win_cts_by_win, step)\n",
    "    step = Step(stat_tests, step)\n",
    "    # topn_step = Step(top_n_by_cell_win_t, st_step, n=top_n)\n",
    "    if alpha: \n",
    "        step = Step(sig_stat, step, stat='anova_p', alpha=alpha, keep_win=True)\n",
    "        step = Step(select, step)\n",
    "    step = Step(tvt_split, step, num_splits=10, num_val=1, num_test=1)\n",
    "    step = Step(gen_samples, step, num_train=num_samples, num_val=1, num_test=1)\n",
    "    return step()"
   ]
  },
  {
   "cell_type": "code",
   "execution_count": 22,
   "metadata": {},
   "outputs": [],
   "source": [
    "def _diff_and_acc(yhat, y):\n",
    "    diff = torch.abs(yhat - y)\n",
    "    diff = torch.min(torch.stack([diff, 16 - diff]), axis=0)[0]\n",
    "    # print(yhat, y, diff, torch.mean(diff))\n",
    "    diff = torch.mean(diff)\n",
    "    return diff, torch.mean((yhat == y).float())"
   ]
  },
  {
   "cell_type": "code",
   "execution_count": 23,
   "metadata": {},
   "outputs": [
    {
     "data": {
      "text/plain": [
       "(tensor(0.2500), (tensor(3.), tensor(0.2500)))"
      ]
     },
     "execution_count": 23,
     "metadata": {},
     "output_type": "execute_result"
    }
   ],
   "source": [
    "y = torch.tensor([0, 1, 2, 3, 4, 5, 6, 7], dtype=torch.float)\n",
    "yhat = torch.tensor([7, 1, 3, 2, 4, 2, 1, 0], dtype=torch.float)\n",
    "# diff = torch.abs(yhat - y)\n",
    "# torch.min(torch.stack([diff, 8 - diff]), axis=0)[0]\n",
    "torch.mean((y == yhat).float()), _diff_and_acc(yhat, y)"
   ]
  },
  {
   "cell_type": "code",
   "execution_count": 24,
   "metadata": {},
   "outputs": [],
   "source": [
    "def train_skl_model(model, data, tags, params, i, others):\n",
    "    train = data['train'][i]\n",
    "    val = data['val'][i]\n",
    "    test = data['test'][i]\n",
    "    \n",
    "    X = train[:, :-1]\n",
    "    m = torch.mean(X, dim=0)\n",
    "    s = torch.std(X, dim=0)\n",
    "    s[s == 0] = 1\n",
    "\n",
    "    train_X, val_X, test_X = ((x[:, :-1] - m) / s for x in (train, val, test))\n",
    "    train_y, val_y, test_y = (x[:, -1] for x in (train, val, test))\n",
    "\n",
    "    # if model is KNeighborsClassifier, use k_neighbors from others as n_neighbors\n",
    "    if model == sklearn.neighbors.KNeighborsClassifier:\n",
    "        model.set_params(n_neighbors=others['k_neighbors'])\n",
    "\n",
    "    model.fit(train_X, train_y)\n",
    "\n",
    "    train_yhat = torch.tensor(model.predict(train_X))\n",
    "    train_diff, train_acc = _diff_and_acc(train_yhat, train_y)\n",
    "    # train_acc = model.score(train_X, train_y)\n",
    "    val_yhat = torch.tensor(model.predict(val_X))\n",
    "    val_diff, val_acc = _diff_and_acc(val_yhat, val_y)\n",
    "    # val_acc = model.score(val_X, val_y)\n",
    "    test_yhat = torch.tensor(model.predict(test_X))\n",
    "    test_diff, test_acc = _diff_and_acc(test_yhat, test_y)\n",
    "    # test_acc = model.score(test_X, test_y)\n",
    "    \n",
    "    return train_acc, val_acc, test_acc, model, (train_X, train_y), (val_X, val_y), (test_X, test_y), train_diff, val_diff, test_diff"
   ]
  },
  {
   "cell_type": "code",
   "execution_count": 25,
   "metadata": {},
   "outputs": [],
   "source": [
    "def _fnn_diff(dataloader, model):\n",
    "    model.eval()\n",
    "    yhat = model.get_predicted_positions(model(dataloader.dataset.tensors[0]))\n",
    "    y = dataloader.dataset.tensors[1][:,-1]\n",
    "    # print(dataloader.dataset.tensors[0].shape, dataloader.dataset.tensors[1].shape, yhat.shape, y.shape)\n",
    "    return _diff_and_acc(yhat, y)"
   ]
  },
  {
   "cell_type": "code",
   "execution_count": 26,
   "metadata": {},
   "outputs": [],
   "source": [
    "def _train_pytl_model(model_class, data, tags, params, i, others):\n",
    "    callback = ModelCheckpoint(save_top_k=1, monitor='val_acc', mode='max')\n",
    "    # mlflow.pytorch.autolog(checkpoint_monitor='val_acc', checkpoint_mode='max')\n",
    "\n",
    "    train, val, test = data['train'][i], data['val'][i], data['test'][i]\n",
    "    data_module = DataModule(*[train, val, test], one_hot_max=others['one_hot_max'], train_batch_size=others['train_batch_size'])\n",
    "    input_size = data_module.train_dataloader().dataset[0][0].shape[0]\n",
    "    model = model_class(input_size, others['hidden_sizes'], 8)\n",
    "\n",
    "    trainer = L.Trainer(max_epochs=20, enable_progress_bar=False, callbacks=[callback])\n",
    "    trainer.fit(model, data_module)\n",
    "    # train_acc = trainer.logged_metrics['best_train_acc']\n",
    "    # val_acc = trainer.logged_metrics['best_val_acc']\n",
    "    model = model_class.load_from_checkpoint(callback.best_model_path)\n",
    "    test_results = trainer.test(model, data_module, verbose=False) #, ckpt_path=\"best\")\n",
    "    train_diff, train_acc = _fnn_diff(data_module.train_dataloader(), model)\n",
    "    val_diff, val_acc = _fnn_diff(data_module.val_dataloader(), model)\n",
    "    test_diff, test_acc = _fnn_diff(data_module.test_dataloader(), model)\n",
    "    return (train_acc, val_acc, test_acc, model, \n",
    "    # return (train_acc, val_acc, test_results[0]['test_acc'], model, \n",
    "            data_module.train_dataloader().dataset, data_module.val_dataloader().dataset, data_module.test_dataloader().dataset,\n",
    "            train_diff, val_diff, test_diff)\n",
    "\n",
    "def train_pytl_model(model_class, data, tags, params, i, others):\n",
    "    # with mlflow.start_run(nested=True):\n",
    "    train_acc, val_acc, test_acc, model, train_data, val_data, test_data, train_diff, val_diff, test_diff = _train_pytl_model(model_class, data, tags, params, i, others)\n",
    "        # mlflow.log_metrics({'train_acc': train_acc.item(), 'val_acc': val_acc.item(), 'test_acc': test_acc})\n",
    "        # mlflow.set_tags(tags)\n",
    "    return train_acc, val_acc, test_acc, model, train_data, val_data, test_data, train_diff, val_diff, test_diff"
   ]
  },
  {
   "cell_type": "code",
   "execution_count": 27,
   "metadata": {},
   "outputs": [],
   "source": [
    "def skl_model_func(model, data, tags, params, others): \n",
    "    return Parallel(n_jobs=8)(\n",
    "        delayed(train_skl_model)(model, data, tags, params, i, others) \n",
    "        for i in range(len(data['train'])))\n",
    "    # return [train_skl_model(model, data, tags, params, i, others) for i in range(len(data['train']))]\n",
    "\n",
    "def pytl_model_func(model_class, data, tags, params, others): \n",
    "    return [train_pytl_model(model_class, data, tags, params, i, others)\n",
    "            for i in range(len(data['train']))]"
   ]
  },
  {
   "cell_type": "code",
   "execution_count": 28,
   "metadata": {},
   "outputs": [],
   "source": [
    "def skl_trial(trial, win_options, model):\n",
    "    others = {}\n",
    "    num_train_samples = 120 #trial.suggest_int('num_train_samples', 50, 150, step=10)\n",
    "    win_opt_strs = {str(w) : w for w in win_options}\n",
    "    win_str = trial.suggest_categorical('wins', win_opt_strs)\n",
    "    wins = win_opt_strs[win_str]\n",
    "    # top_func_s = trial.suggest_categorical('top_func', ['cell_t', 'cell_win_t', 'cell_kruskal', 'cell_win_kruskal', 'cell_anova', 'cell_win_anova'])\n",
    "    # top_func = {'cell_t': top_n_by_cell_t, 'cell_win_t': top_n_by_cell_win_t, \n",
    "    #             'cell_kruskal': top_n_by_cell_kruskal, 'cell_win_kruskal': top_n_by_cell_win_kruskal,\n",
    "    #             'cell_anova': top_n_by_cell_anova, 'cell_win_anova': top_n_by_cell_win_anova\n",
    "    #             }[top_func_s]\n",
    "    top_func = 'NA'\n",
    "    # top_n = trial.suggest_int('top_n', 14, 20)\n",
    "    top_n = -1\n",
    "    # win_size = trial.suggest_int('win_size', 250, 500, step=50)\n",
    "    # win_stride = win_size\n",
    "    if issubclass(type(model), sklearn.neighbors.KNeighborsClassifier):\n",
    "        others['k_neighbors'] = trial.suggest_int('k_neighbors', 3, 15)\n",
    "\n",
    "    # alpha = trial.suggest_categorical('alpha', [0.02, 0.03, 0.04])\n",
    "    alpha = 0.1 # 10**trial.suggest_float('log10_alpha', -4.5, -1.5, step=1)\n",
    "    return num_train_samples, top_func, top_n, wins, alpha, others"
   ]
  },
  {
   "cell_type": "code",
   "execution_count": 29,
   "metadata": {},
   "outputs": [],
   "source": [
    "def pytl_trial(trial, win_start, model):\n",
    "    num_train_samples, top_func, top_n, win_size, win_stride, others = skl_trial(trial, win_start, model)\n",
    "    hidden_sizes = [2**trial.suggest_int('hidden_size_exp', 7, 9)] * trial.suggest_int('num_hidden_layers', 2, 3)\n",
    "    one_hot_max = 0.9 #trial.suggest_float('one_hot_max', 0.7, 0.975, step=0.025)\n",
    "    train_batch_size = 4 #trial.suggest_int('train_batch_size', 1, 10, step=3)\n",
    "    return num_train_samples, top_func, top_n, win_size, win_stride, {'hidden_sizes': hidden_sizes, 'one_hot_max': one_hot_max, 'train_batch_size': train_batch_size}"
   ]
  },
  {
   "cell_type": "code",
   "execution_count": 30,
   "metadata": {},
   "outputs": [],
   "source": [
    "def skl_log(models, vals, tests, i):\n",
    "    model = mlflow.sklearn.log_model(models[i], 'model')\n",
    "    dataset = mlflow.data.from_numpy(tests[i][0].numpy(), targets=tests[i][1].numpy())\n",
    "    mlflow.log_input(dataset, context='test')\n",
    "    dataset = mlflow.data.from_numpy(vals[i][0].numpy(), targets=vals[i][1].numpy())\n",
    "    mlflow.log_input(dataset, context='val')"
   ]
  },
  {
   "cell_type": "code",
   "execution_count": 31,
   "metadata": {},
   "outputs": [],
   "source": [
    "def pytl_log(models, vals, tests, i):\n",
    "    model = mlflow.pytorch.log_model(models[i], 'model')\n",
    "    dataset = mlflow.data.from_numpy(vals[i][:][0].numpy(), targets=vals[i][:][1].numpy())\n",
    "    mlflow.log_input(dataset, context='val')\n",
    "    dataset = mlflow.data.from_numpy(tests[i][:][0].numpy(), targets=tests[i][:][1].numpy())\n",
    "    mlflow.log_input(dataset, context='test')"
   ]
  },
  {
   "cell_type": "code",
   "execution_count": 32,
   "metadata": {},
   "outputs": [],
   "source": [
    "def objective(data_func, model_func, model, monkey, area, subregion, phase, win_options, tags, trial_func, log_func, cell, trial):\n",
    "    num_train_samples, top_func, top_n, wins, alpha, others = trial_func(trial, win_options, model)\n",
    "\n",
    "    trials_to_consider = trial.study.get_trials(deepcopy=False, states=(optuna.trial.TrialState.COMPLETE,))\n",
    "    for t in reversed(trials_to_consider):\n",
    "        if trial.params == t.params:\n",
    "            # print('skip repeat')\n",
    "            # return t.value\n",
    "            print('repeat')\n",
    "\n",
    "    try:\n",
    "        data = prepare_data(data_func, monkey, area, subregion, phase, wins, num_train_samples, alpha, cell=cell)\n",
    "        tags['n_cells'] = len(data['cells'])\n",
    "\n",
    "        if cell is not None:\n",
    "            tags['cell'] = cell\n",
    "\n",
    "        with mlflow.start_run(nested=True):\n",
    "            # mlflow.log_table(data['win_cts_by_win'].index, 'win_cts_by_win')\n",
    "            # mlflow.data.from_pandas(pd.DataFrame(data['win_cts_by_win'].index))\n",
    "            cellwindows = pd.DataFrame(data['win_cts_by_win'].index.droplevel(1).unique().to_series()).reset_index()[['cell', 'win']]\n",
    "\n",
    "            with tempfile.TemporaryDirectory() as tmp_dir:\n",
    "                path = Path(tmp_dir, \"cellwindows.csv\")\n",
    "                cellwindows.to_csv(path, index=False)\n",
    "                mlflow.log_artifact(path)\n",
    "            \n",
    "            # mlflow.log_input(mlflow.data.from_pandas(cellwindows, 'cellwindows'))\n",
    "            mlflow.set_tags(tags)\n",
    "            mlflow.log_params(trial.params)\n",
    "\n",
    "            results = model_func(model, data, tags, trial.params, others)\n",
    "            train_accs, val_accs, test_accs, models, trains, vals, tests, train_diff, val_diff, test_diff = zip(*results)\n",
    "            std = np.std(val_accs)\n",
    "\n",
    "            mlflow.log_metric('train_acc', np.mean(train_accs))\n",
    "            mlflow.log_metric('val_acc', np.mean(val_accs))\n",
    "            mlflow.log_metric('test_acc', np.mean(test_accs))\n",
    "            mlflow.log_metric('train_diff', np.mean(train_diff))\n",
    "            mlflow.log_metric('val_diff', np.mean(val_diff))\n",
    "            mlflow.log_metric('test_diff', np.mean(test_diff))\n",
    "            mlflow.log_metric('val_std', std)\n",
    "            note = f'train_accs={np.stack(train_accs)}, val_accs={np.stack(val_accs)}, test_accs={np.stack(test_accs)}'\n",
    "            mlflow.set_tag('mlflow.note.content', note)\n",
    "\n",
    "            # i = np.argmax(val_accs)\n",
    "            # log_func(models, vals, tests, i)\n",
    "\n",
    "            # dataset = mlflow.data.from_numpy(trains[i][0].numpy(), targets=trains[i][1].numpy())\n",
    "            # mlflow.log_input(dataset, context='train')\n",
    "            # mlflow.evaluate(data=dataset, model_type='classifier', model=model.model_uri)\n",
    "\n",
    "        return np.mean(val_accs)\n",
    "    except Exception as e:\n",
    "        # return 0\n",
    "        raise e"
   ]
  },
  {
   "cell_type": "code",
   "execution_count": 33,
   "metadata": {},
   "outputs": [],
   "source": [
    "def try_model(experiment_name, data_func, model, monkey, area, subregion, phase, win_options, n_trials, existing_mode='abort', cell=None):\n",
    "    if isinstance(model, type) and issubclass(model, L.LightningModule):\n",
    "        model_func, trial_func, log_func, model_name = (pytl_model_func, pytl_trial, pytl_log, model.__name__)\n",
    "    else:\n",
    "        model_func, trial_func, log_func, model_name = (skl_model_func, skl_trial, skl_log, type(model).__name__)\n",
    "\n",
    "    criteria = []\n",
    "    if monkey: criteria.append(f'tags.monkey = \"{monkey}\"')\n",
    "    if area: criteria.append(f'tags.area = \"{area}\"')\n",
    "    if subregion: criteria.append(f'tags.subregion = \"{subregion}\"')\n",
    "    if phase: criteria.append(f'tags.phase = \"{phase}\"')\n",
    "    if cell: criteria.append(f'tags.cell = \"{cell}\"')\n",
    "    criteria.append(f'tags.model = \"{model_name}\"')\n",
    "\n",
    "    experiment = mlflow.get_experiment_by_name(experiment_name)\n",
    "    if experiment is not None:\n",
    "        experiment_id = experiment.experiment_id\n",
    "        runs = mlflow.search_runs(experiment_ids=experiment_id, filter_string=' and '.join(criteria))\n",
    "\n",
    "        if not runs.empty:\n",
    "            print(f'Experiment {experiment_name} already has runs with criteria {criteria}')\n",
    "            if existing_mode == 'abort':\n",
    "                print('Aborting')\n",
    "                return\n",
    "            elif existing_mode == 'overwrite':\n",
    "                print('Deleting runs')\n",
    "                for ind, run in runs.iterrows():\n",
    "                    if run['status'] != 'RUNNING':\n",
    "                        mlflow.delete_run(run[\"run_id\"])\n",
    "            elif existing_mode == 'append':\n",
    "                print('Appending')\n",
    "\n",
    "    mlflow.set_experiment(experiment_name)\n",
    "\n",
    "    with mlflow.start_run():\n",
    "        study = optuna.create_study(direction='maximize') #, sampler=optuna.samplers.BruteForceSampler())\n",
    "\n",
    "        tags = {'model': model_name}\n",
    "        if monkey: tags['monkey'] = monkey\n",
    "        if area: tags['area'] = area\n",
    "        if subregion: tags['subregion'] = subregion\n",
    "        if phase: tags['phase'] = phase\n",
    "        if cell: tags['cell'] = cell\n",
    "        mlflow.set_tags(tags)\n",
    "\n",
    "        study.optimize(partial(objective, data_func, model_func, model, monkey, area, subregion, phase, win_options, tags, trial_func, log_func, cell), n_trials=n_trials)\n",
    "\n",
    "        print(study.best_params, study.best_value)\n",
    "\n",
    "        mlflow.log_params(study.best_params)\n",
    "        mlflow.log_metric('best_val_acc', study.best_value)"
   ]
  },
  {
   "cell_type": "code",
   "execution_count": 34,
   "metadata": {},
   "outputs": [],
   "source": [
    "logging.getLogger(\"lightning.pytorch\").setLevel(logging.ERROR)\n",
    "logging.getLogger(\"pytorch_lightning.utilities\").setLevel(logging.ERROR)"
   ]
  },
  {
   "cell_type": "code",
   "execution_count": 35,
   "metadata": {},
   "outputs": [
    {
     "name": "stdout",
     "output_type": "stream",
     "text": [
      "16\n",
      "Experiment mnm_spatial-single-neuron already has runs with criteria ['tags.cell = \"NIN-PFC-AD-PRE-143\"', 'tags.model = \"CrossEntropyFNN\"']\n",
      "Aborting\n",
      "Experiment mnm_spatial-single-neuron already has runs with criteria ['tags.cell = \"NIN-PFC-AD-PRE-144\"', 'tags.model = \"CrossEntropyFNN\"']\n",
      "Aborting\n"
     ]
    },
    {
     "name": "stderr",
     "output_type": "stream",
     "text": [
      "[I 2024-10-04 08:53:13,736] A new study created in memory with name: no-name-b00d2492-3fe0-41ea-bbb4-52bf294f5dfb\n",
      "[I 2024-10-04 08:56:54,179] Trial 0 finished with value: 0.75 and parameters: {'wins': '[[1500, 1625], [1625, 1750], [1750, 1875], [1875, 2000], [2000, 2125], [2125, 2250], [2250, 2375], [2375, 2500], [2500, 2625], [2625, 2750], [2750, 2875], [2875, 3000], [3000, 3125], [3125, 3250], [3250, 3375], [3375, 3500], [3500, 3625], [3625, 3750], [3750, 3875], [3875, 4000], [4000, 4125], [4125, 4250], [4250, 4375], [4375, 4500], [4500, 4625], [4625, 4750], [4750, 4875], [4875, 5000]]', 'hidden_size_exp': 7, 'num_hidden_layers': 2}. Best is trial 0 with value: 0.75.\n"
     ]
    },
    {
     "name": "stdout",
     "output_type": "stream",
     "text": [
      "repeat\n"
     ]
    },
    {
     "name": "stderr",
     "output_type": "stream",
     "text": [
      "[I 2024-10-04 09:00:33,445] Trial 1 finished with value: 0.762499988079071 and parameters: {'wins': '[[1500, 1625], [1625, 1750], [1750, 1875], [1875, 2000], [2000, 2125], [2125, 2250], [2250, 2375], [2375, 2500], [2500, 2625], [2625, 2750], [2750, 2875], [2875, 3000], [3000, 3125], [3125, 3250], [3250, 3375], [3375, 3500], [3500, 3625], [3625, 3750], [3750, 3875], [3875, 4000], [4000, 4125], [4125, 4250], [4250, 4375], [4375, 4500], [4500, 4625], [4625, 4750], [4750, 4875], [4875, 5000]]', 'hidden_size_exp': 7, 'num_hidden_layers': 2}. Best is trial 1 with value: 0.762499988079071.\n",
      "[I 2024-10-04 09:04:19,462] Trial 2 finished with value: 0.75 and parameters: {'wins': '[[1500, 1625], [1625, 1750], [1750, 1875], [1875, 2000], [2000, 2125], [2125, 2250], [2250, 2375], [2375, 2500], [2500, 2625], [2625, 2750], [2750, 2875], [2875, 3000], [3000, 3125], [3125, 3250], [3250, 3375], [3375, 3500], [3500, 3625], [3625, 3750], [3750, 3875], [3875, 4000], [4000, 4125], [4125, 4250], [4250, 4375], [4375, 4500], [4500, 4625], [4625, 4750], [4750, 4875], [4875, 5000]]', 'hidden_size_exp': 9, 'num_hidden_layers': 2}. Best is trial 1 with value: 0.762499988079071.\n",
      "[I 2024-10-04 09:08:28,281] Trial 3 finished with value: 0.800000011920929 and parameters: {'wins': '[[1500, 1625], [1625, 1750], [1750, 1875], [1875, 2000], [2000, 2125], [2125, 2250], [2250, 2375], [2375, 2500], [2500, 2625], [2625, 2750], [2750, 2875], [2875, 3000], [3000, 3125], [3125, 3250], [3250, 3375], [3375, 3500], [3500, 3625], [3625, 3750], [3750, 3875], [3875, 4000], [4000, 4125], [4125, 4250], [4250, 4375], [4375, 4500], [4500, 4625], [4625, 4750], [4750, 4875], [4875, 5000]]', 'hidden_size_exp': 8, 'num_hidden_layers': 3}. Best is trial 3 with value: 0.800000011920929.\n",
      "[I 2024-10-04 09:12:30,599] Trial 4 finished with value: 0.75 and parameters: {'wins': '[[1500, 1625], [1625, 1750], [1750, 1875], [1875, 2000], [2000, 2125], [2125, 2250], [2250, 2375], [2375, 2500], [2500, 2625], [2625, 2750], [2750, 2875], [2875, 3000], [3000, 3125], [3125, 3250], [3250, 3375], [3375, 3500], [3500, 3625], [3625, 3750], [3750, 3875], [3875, 4000], [4000, 4125], [4125, 4250], [4250, 4375], [4375, 4500], [4500, 4625], [4625, 4750], [4750, 4875], [4875, 5000]]', 'hidden_size_exp': 7, 'num_hidden_layers': 3}. Best is trial 3 with value: 0.800000011920929.\n"
     ]
    },
    {
     "name": "stdout",
     "output_type": "stream",
     "text": [
      "{'wins': '[[1500, 1625], [1625, 1750], [1750, 1875], [1875, 2000], [2000, 2125], [2125, 2250], [2250, 2375], [2375, 2500], [2500, 2625], [2625, 2750], [2750, 2875], [2875, 3000], [3000, 3125], [3125, 3250], [3250, 3375], [3375, 3500], [3500, 3625], [3625, 3750], [3750, 3875], [3875, 4000], [4000, 4125], [4125, 4250], [4250, 4375], [4375, 4500], [4500, 4625], [4625, 4750], [4750, 4875], [4875, 5000]]', 'hidden_size_exp': 8, 'num_hidden_layers': 3} 0.800000011920929\n"
     ]
    },
    {
     "name": "stderr",
     "output_type": "stream",
     "text": [
      "[I 2024-10-04 09:12:31,625] A new study created in memory with name: no-name-616ee764-745e-4a3b-a199-c556b3aa778b\n",
      "[I 2024-10-04 09:16:13,671] Trial 0 finished with value: 0.7124999761581421 and parameters: {'wins': '[[1500, 1625], [1625, 1750], [1750, 1875], [1875, 2000], [2000, 2125], [2125, 2250], [2250, 2375], [2375, 2500], [2500, 2625], [2625, 2750], [2750, 2875], [2875, 3000], [3000, 3125], [3125, 3250], [3250, 3375], [3375, 3500], [3500, 3625], [3625, 3750], [3750, 3875], [3875, 4000], [4000, 4125], [4125, 4250], [4250, 4375], [4375, 4500], [4500, 4625], [4625, 4750], [4750, 4875], [4875, 5000]]', 'hidden_size_exp': 7, 'num_hidden_layers': 2}. Best is trial 0 with value: 0.7124999761581421.\n",
      "[I 2024-10-04 09:20:00,927] Trial 1 finished with value: 0.699999988079071 and parameters: {'wins': '[[1500, 1625], [1625, 1750], [1750, 1875], [1875, 2000], [2000, 2125], [2125, 2250], [2250, 2375], [2375, 2500], [2500, 2625], [2625, 2750], [2750, 2875], [2875, 3000], [3000, 3125], [3125, 3250], [3250, 3375], [3375, 3500], [3500, 3625], [3625, 3750], [3750, 3875], [3875, 4000], [4000, 4125], [4125, 4250], [4250, 4375], [4375, 4500], [4500, 4625], [4625, 4750], [4750, 4875], [4875, 5000]]', 'hidden_size_exp': 9, 'num_hidden_layers': 2}. Best is trial 0 with value: 0.7124999761581421.\n",
      "[I 2024-10-04 09:23:44,236] Trial 2 finished with value: 0.699999988079071 and parameters: {'wins': '[[1500, 1625], [1625, 1750], [1750, 1875], [1875, 2000], [2000, 2125], [2125, 2250], [2250, 2375], [2375, 2500], [2500, 2625], [2625, 2750], [2750, 2875], [2875, 3000], [3000, 3125], [3125, 3250], [3250, 3375], [3375, 3500], [3500, 3625], [3625, 3750], [3750, 3875], [3875, 4000], [4000, 4125], [4125, 4250], [4250, 4375], [4375, 4500], [4500, 4625], [4625, 4750], [4750, 4875], [4875, 5000]]', 'hidden_size_exp': 8, 'num_hidden_layers': 2}. Best is trial 0 with value: 0.7124999761581421.\n"
     ]
    },
    {
     "name": "stdout",
     "output_type": "stream",
     "text": [
      "repeat\n"
     ]
    },
    {
     "name": "stderr",
     "output_type": "stream",
     "text": [
      "[I 2024-10-04 09:27:22,560] Trial 3 finished with value: 0.7250000238418579 and parameters: {'wins': '[[1500, 1625], [1625, 1750], [1750, 1875], [1875, 2000], [2000, 2125], [2125, 2250], [2250, 2375], [2375, 2500], [2500, 2625], [2625, 2750], [2750, 2875], [2875, 3000], [3000, 3125], [3125, 3250], [3250, 3375], [3375, 3500], [3500, 3625], [3625, 3750], [3750, 3875], [3875, 4000], [4000, 4125], [4125, 4250], [4250, 4375], [4375, 4500], [4500, 4625], [4625, 4750], [4750, 4875], [4875, 5000]]', 'hidden_size_exp': 7, 'num_hidden_layers': 2}. Best is trial 3 with value: 0.7250000238418579.\n",
      "[I 2024-10-04 09:31:35,399] Trial 4 finished with value: 0.7124999761581421 and parameters: {'wins': '[[1500, 1625], [1625, 1750], [1750, 1875], [1875, 2000], [2000, 2125], [2125, 2250], [2250, 2375], [2375, 2500], [2500, 2625], [2625, 2750], [2750, 2875], [2875, 3000], [3000, 3125], [3125, 3250], [3250, 3375], [3375, 3500], [3500, 3625], [3625, 3750], [3750, 3875], [3875, 4000], [4000, 4125], [4125, 4250], [4250, 4375], [4375, 4500], [4500, 4625], [4625, 4750], [4750, 4875], [4875, 5000]]', 'hidden_size_exp': 9, 'num_hidden_layers': 3}. Best is trial 3 with value: 0.7250000238418579.\n"
     ]
    },
    {
     "name": "stdout",
     "output_type": "stream",
     "text": [
      "{'wins': '[[1500, 1625], [1625, 1750], [1750, 1875], [1875, 2000], [2000, 2125], [2125, 2250], [2250, 2375], [2375, 2500], [2500, 2625], [2625, 2750], [2750, 2875], [2875, 3000], [3000, 3125], [3125, 3250], [3250, 3375], [3375, 3500], [3500, 3625], [3625, 3750], [3750, 3875], [3875, 4000], [4000, 4125], [4125, 4250], [4250, 4375], [4375, 4500], [4500, 4625], [4625, 4750], [4750, 4875], [4875, 5000]]', 'hidden_size_exp': 7, 'num_hidden_layers': 2} 0.7250000238418579\n"
     ]
    },
    {
     "name": "stderr",
     "output_type": "stream",
     "text": [
      "[I 2024-10-04 09:31:36,239] A new study created in memory with name: no-name-44fa6588-9ecd-45ee-bc71-90125b50495a\n",
      "[I 2024-10-04 09:35:48,630] Trial 0 finished with value: 0.699999988079071 and parameters: {'wins': '[[1500, 1625], [1625, 1750], [1750, 1875], [1875, 2000], [2000, 2125], [2125, 2250], [2250, 2375], [2375, 2500], [2500, 2625], [2625, 2750], [2750, 2875], [2875, 3000], [3000, 3125], [3125, 3250], [3250, 3375], [3375, 3500], [3500, 3625], [3625, 3750], [3750, 3875], [3875, 4000], [4000, 4125], [4125, 4250], [4250, 4375], [4375, 4500], [4500, 4625], [4625, 4750], [4750, 4875], [4875, 5000]]', 'hidden_size_exp': 8, 'num_hidden_layers': 3}. Best is trial 0 with value: 0.699999988079071.\n",
      "[I 2024-10-04 09:39:33,199] Trial 1 finished with value: 0.7124999761581421 and parameters: {'wins': '[[1500, 1625], [1625, 1750], [1750, 1875], [1875, 2000], [2000, 2125], [2125, 2250], [2250, 2375], [2375, 2500], [2500, 2625], [2625, 2750], [2750, 2875], [2875, 3000], [3000, 3125], [3125, 3250], [3250, 3375], [3375, 3500], [3500, 3625], [3625, 3750], [3750, 3875], [3875, 4000], [4000, 4125], [4125, 4250], [4250, 4375], [4375, 4500], [4500, 4625], [4625, 4750], [4750, 4875], [4875, 5000]]', 'hidden_size_exp': 8, 'num_hidden_layers': 2}. Best is trial 1 with value: 0.7124999761581421.\n"
     ]
    },
    {
     "name": "stdout",
     "output_type": "stream",
     "text": [
      "repeat\n"
     ]
    },
    {
     "name": "stderr",
     "output_type": "stream",
     "text": [
      "[I 2024-10-04 09:43:16,501] Trial 2 finished with value: 0.7250000238418579 and parameters: {'wins': '[[1500, 1625], [1625, 1750], [1750, 1875], [1875, 2000], [2000, 2125], [2125, 2250], [2250, 2375], [2375, 2500], [2500, 2625], [2625, 2750], [2750, 2875], [2875, 3000], [3000, 3125], [3125, 3250], [3250, 3375], [3375, 3500], [3500, 3625], [3625, 3750], [3750, 3875], [3875, 4000], [4000, 4125], [4125, 4250], [4250, 4375], [4375, 4500], [4500, 4625], [4625, 4750], [4750, 4875], [4875, 5000]]', 'hidden_size_exp': 8, 'num_hidden_layers': 2}. Best is trial 2 with value: 0.7250000238418579.\n",
      "[I 2024-10-04 09:46:56,328] Trial 3 finished with value: 0.7124999761581421 and parameters: {'wins': '[[1500, 1625], [1625, 1750], [1750, 1875], [1875, 2000], [2000, 2125], [2125, 2250], [2250, 2375], [2375, 2500], [2500, 2625], [2625, 2750], [2750, 2875], [2875, 3000], [3000, 3125], [3125, 3250], [3250, 3375], [3375, 3500], [3500, 3625], [3625, 3750], [3750, 3875], [3875, 4000], [4000, 4125], [4125, 4250], [4250, 4375], [4375, 4500], [4500, 4625], [4625, 4750], [4750, 4875], [4875, 5000]]', 'hidden_size_exp': 7, 'num_hidden_layers': 2}. Best is trial 2 with value: 0.7250000238418579.\n",
      "[I 2024-10-04 09:50:42,217] Trial 4 finished with value: 0.7250000238418579 and parameters: {'wins': '[[1500, 1625], [1625, 1750], [1750, 1875], [1875, 2000], [2000, 2125], [2125, 2250], [2250, 2375], [2375, 2500], [2500, 2625], [2625, 2750], [2750, 2875], [2875, 3000], [3000, 3125], [3125, 3250], [3250, 3375], [3375, 3500], [3500, 3625], [3625, 3750], [3750, 3875], [3875, 4000], [4000, 4125], [4125, 4250], [4250, 4375], [4375, 4500], [4500, 4625], [4625, 4750], [4750, 4875], [4875, 5000]]', 'hidden_size_exp': 9, 'num_hidden_layers': 2}. Best is trial 2 with value: 0.7250000238418579.\n"
     ]
    },
    {
     "name": "stdout",
     "output_type": "stream",
     "text": [
      "{'wins': '[[1500, 1625], [1625, 1750], [1750, 1875], [1875, 2000], [2000, 2125], [2125, 2250], [2250, 2375], [2375, 2500], [2500, 2625], [2625, 2750], [2750, 2875], [2875, 3000], [3000, 3125], [3125, 3250], [3250, 3375], [3375, 3500], [3500, 3625], [3625, 3750], [3750, 3875], [3875, 4000], [4000, 4125], [4125, 4250], [4250, 4375], [4375, 4500], [4500, 4625], [4625, 4750], [4750, 4875], [4875, 5000]]', 'hidden_size_exp': 8, 'num_hidden_layers': 2} 0.7250000238418579\n",
      "Experiment mnm_spatial-single-neuron already has runs with criteria ['tags.cell = \"NIN-PFC-AD-PRE-150\"', 'tags.model = \"CrossEntropyFNN\"']\n",
      "Aborting\n"
     ]
    },
    {
     "name": "stderr",
     "output_type": "stream",
     "text": [
      "[I 2024-10-04 09:50:44,863] A new study created in memory with name: no-name-63898efb-f0fe-40c6-ba01-2e2496cf25d2\n",
      "[I 2024-10-04 09:54:30,457] Trial 0 finished with value: 0.3375000059604645 and parameters: {'wins': '[[1500, 1625], [1625, 1750], [1750, 1875], [1875, 2000], [2000, 2125], [2125, 2250], [2250, 2375], [2375, 2500], [2500, 2625], [2625, 2750], [2750, 2875], [2875, 3000], [3000, 3125], [3125, 3250], [3250, 3375], [3375, 3500], [3500, 3625], [3625, 3750], [3750, 3875], [3875, 4000], [4000, 4125], [4125, 4250], [4250, 4375], [4375, 4500], [4500, 4625], [4625, 4750], [4750, 4875], [4875, 5000]]', 'hidden_size_exp': 8, 'num_hidden_layers': 2}. Best is trial 0 with value: 0.3375000059604645.\n",
      "[I 2024-10-04 09:58:37,264] Trial 1 finished with value: 0.38749998807907104 and parameters: {'wins': '[[1500, 1625], [1625, 1750], [1750, 1875], [1875, 2000], [2000, 2125], [2125, 2250], [2250, 2375], [2375, 2500], [2500, 2625], [2625, 2750], [2750, 2875], [2875, 3000], [3000, 3125], [3125, 3250], [3250, 3375], [3375, 3500], [3500, 3625], [3625, 3750], [3750, 3875], [3875, 4000], [4000, 4125], [4125, 4250], [4250, 4375], [4375, 4500], [4500, 4625], [4625, 4750], [4750, 4875], [4875, 5000]]', 'hidden_size_exp': 8, 'num_hidden_layers': 3}. Best is trial 1 with value: 0.38749998807907104.\n",
      "[I 2024-10-04 10:02:17,234] Trial 2 finished with value: 0.3499999940395355 and parameters: {'wins': '[[1500, 1625], [1625, 1750], [1750, 1875], [1875, 2000], [2000, 2125], [2125, 2250], [2250, 2375], [2375, 2500], [2500, 2625], [2625, 2750], [2750, 2875], [2875, 3000], [3000, 3125], [3125, 3250], [3250, 3375], [3375, 3500], [3500, 3625], [3625, 3750], [3750, 3875], [3875, 4000], [4000, 4125], [4125, 4250], [4250, 4375], [4375, 4500], [4500, 4625], [4625, 4750], [4750, 4875], [4875, 5000]]', 'hidden_size_exp': 7, 'num_hidden_layers': 2}. Best is trial 1 with value: 0.38749998807907104.\n"
     ]
    },
    {
     "name": "stdout",
     "output_type": "stream",
     "text": [
      "repeat\n"
     ]
    },
    {
     "name": "stderr",
     "output_type": "stream",
     "text": [
      "[I 2024-10-04 10:06:03,585] Trial 3 finished with value: 0.32499998807907104 and parameters: {'wins': '[[1500, 1625], [1625, 1750], [1750, 1875], [1875, 2000], [2000, 2125], [2125, 2250], [2250, 2375], [2375, 2500], [2500, 2625], [2625, 2750], [2750, 2875], [2875, 3000], [3000, 3125], [3125, 3250], [3250, 3375], [3375, 3500], [3500, 3625], [3625, 3750], [3750, 3875], [3875, 4000], [4000, 4125], [4125, 4250], [4250, 4375], [4375, 4500], [4500, 4625], [4625, 4750], [4750, 4875], [4875, 5000]]', 'hidden_size_exp': 8, 'num_hidden_layers': 2}. Best is trial 1 with value: 0.38749998807907104.\n",
      "[I 2024-10-04 10:10:09,101] Trial 4 finished with value: 0.3375000059604645 and parameters: {'wins': '[[1500, 1625], [1625, 1750], [1750, 1875], [1875, 2000], [2000, 2125], [2125, 2250], [2250, 2375], [2375, 2500], [2500, 2625], [2625, 2750], [2750, 2875], [2875, 3000], [3000, 3125], [3125, 3250], [3250, 3375], [3375, 3500], [3500, 3625], [3625, 3750], [3750, 3875], [3875, 4000], [4000, 4125], [4125, 4250], [4250, 4375], [4375, 4500], [4500, 4625], [4625, 4750], [4750, 4875], [4875, 5000]]', 'hidden_size_exp': 7, 'num_hidden_layers': 3}. Best is trial 1 with value: 0.38749998807907104.\n"
     ]
    },
    {
     "name": "stdout",
     "output_type": "stream",
     "text": [
      "{'wins': '[[1500, 1625], [1625, 1750], [1750, 1875], [1875, 2000], [2000, 2125], [2125, 2250], [2250, 2375], [2375, 2500], [2500, 2625], [2625, 2750], [2750, 2875], [2875, 3000], [3000, 3125], [3125, 3250], [3250, 3375], [3375, 3500], [3500, 3625], [3625, 3750], [3750, 3875], [3875, 4000], [4000, 4125], [4125, 4250], [4250, 4375], [4375, 4500], [4500, 4625], [4625, 4750], [4750, 4875], [4875, 5000]]', 'hidden_size_exp': 8, 'num_hidden_layers': 3} 0.38749998807907104\n",
      "Experiment mnm_spatial-single-neuron already has runs with criteria ['tags.cell = \"NIN-PFC-AD-PRE-153\"', 'tags.model = \"CrossEntropyFNN\"']\n",
      "Aborting\n"
     ]
    },
    {
     "name": "stderr",
     "output_type": "stream",
     "text": [
      "[I 2024-10-04 10:10:10,666] A new study created in memory with name: no-name-5511d940-6640-4c9a-bdc3-a4ac94b350e3\n",
      "[I 2024-10-04 10:14:29,689] Trial 0 finished with value: 0.625 and parameters: {'wins': '[[1500, 1625], [1625, 1750], [1750, 1875], [1875, 2000], [2000, 2125], [2125, 2250], [2250, 2375], [2375, 2500], [2500, 2625], [2625, 2750], [2750, 2875], [2875, 3000], [3000, 3125], [3125, 3250], [3250, 3375], [3375, 3500], [3500, 3625], [3625, 3750], [3750, 3875], [3875, 4000], [4000, 4125], [4125, 4250], [4250, 4375], [4375, 4500], [4500, 4625], [4625, 4750], [4750, 4875], [4875, 5000]]', 'hidden_size_exp': 9, 'num_hidden_layers': 3}. Best is trial 0 with value: 0.625.\n"
     ]
    },
    {
     "name": "stdout",
     "output_type": "stream",
     "text": [
      "repeat\n"
     ]
    },
    {
     "name": "stderr",
     "output_type": "stream",
     "text": [
      "[I 2024-10-04 10:18:43,190] Trial 1 finished with value: 0.699999988079071 and parameters: {'wins': '[[1500, 1625], [1625, 1750], [1750, 1875], [1875, 2000], [2000, 2125], [2125, 2250], [2250, 2375], [2375, 2500], [2500, 2625], [2625, 2750], [2750, 2875], [2875, 3000], [3000, 3125], [3125, 3250], [3250, 3375], [3375, 3500], [3500, 3625], [3625, 3750], [3750, 3875], [3875, 4000], [4000, 4125], [4125, 4250], [4250, 4375], [4375, 4500], [4500, 4625], [4625, 4750], [4750, 4875], [4875, 5000]]', 'hidden_size_exp': 9, 'num_hidden_layers': 3}. Best is trial 1 with value: 0.699999988079071.\n",
      "[I 2024-10-04 10:22:45,172] Trial 2 finished with value: 0.637499988079071 and parameters: {'wins': '[[1500, 1625], [1625, 1750], [1750, 1875], [1875, 2000], [2000, 2125], [2125, 2250], [2250, 2375], [2375, 2500], [2500, 2625], [2625, 2750], [2750, 2875], [2875, 3000], [3000, 3125], [3125, 3250], [3250, 3375], [3375, 3500], [3500, 3625], [3625, 3750], [3750, 3875], [3875, 4000], [4000, 4125], [4125, 4250], [4250, 4375], [4375, 4500], [4500, 4625], [4625, 4750], [4750, 4875], [4875, 5000]]', 'hidden_size_exp': 7, 'num_hidden_layers': 3}. Best is trial 1 with value: 0.699999988079071.\n",
      "[I 2024-10-04 10:26:30,630] Trial 3 finished with value: 0.6499999761581421 and parameters: {'wins': '[[1500, 1625], [1625, 1750], [1750, 1875], [1875, 2000], [2000, 2125], [2125, 2250], [2250, 2375], [2375, 2500], [2500, 2625], [2625, 2750], [2750, 2875], [2875, 3000], [3000, 3125], [3125, 3250], [3250, 3375], [3375, 3500], [3500, 3625], [3625, 3750], [3750, 3875], [3875, 4000], [4000, 4125], [4125, 4250], [4250, 4375], [4375, 4500], [4500, 4625], [4625, 4750], [4750, 4875], [4875, 5000]]', 'hidden_size_exp': 8, 'num_hidden_layers': 2}. Best is trial 1 with value: 0.699999988079071.\n",
      "[I 2024-10-04 10:30:15,621] Trial 4 finished with value: 0.637499988079071 and parameters: {'wins': '[[1500, 1625], [1625, 1750], [1750, 1875], [1875, 2000], [2000, 2125], [2125, 2250], [2250, 2375], [2375, 2500], [2500, 2625], [2625, 2750], [2750, 2875], [2875, 3000], [3000, 3125], [3125, 3250], [3250, 3375], [3375, 3500], [3500, 3625], [3625, 3750], [3750, 3875], [3875, 4000], [4000, 4125], [4125, 4250], [4250, 4375], [4375, 4500], [4500, 4625], [4625, 4750], [4750, 4875], [4875, 5000]]', 'hidden_size_exp': 9, 'num_hidden_layers': 2}. Best is trial 1 with value: 0.699999988079071.\n"
     ]
    },
    {
     "name": "stdout",
     "output_type": "stream",
     "text": [
      "{'wins': '[[1500, 1625], [1625, 1750], [1750, 1875], [1875, 2000], [2000, 2125], [2125, 2250], [2250, 2375], [2375, 2500], [2500, 2625], [2625, 2750], [2750, 2875], [2875, 3000], [3000, 3125], [3125, 3250], [3250, 3375], [3375, 3500], [3500, 3625], [3625, 3750], [3750, 3875], [3875, 4000], [4000, 4125], [4125, 4250], [4250, 4375], [4375, 4500], [4500, 4625], [4625, 4750], [4750, 4875], [4875, 5000]]', 'hidden_size_exp': 9, 'num_hidden_layers': 3} 0.699999988079071\n",
      "Experiment mnm_spatial-single-neuron already has runs with criteria ['tags.cell = \"NIN-PFC-AD-PRE-250\"', 'tags.model = \"CrossEntropyFNN\"']\n",
      "Aborting\n"
     ]
    },
    {
     "name": "stderr",
     "output_type": "stream",
     "text": [
      "[I 2024-10-04 10:30:18,322] A new study created in memory with name: no-name-f678500b-f507-4384-9962-33333e0163ce\n",
      "[I 2024-10-04 10:34:04,346] Trial 0 finished with value: 0.5874999761581421 and parameters: {'wins': '[[1500, 1625], [1625, 1750], [1750, 1875], [1875, 2000], [2000, 2125], [2125, 2250], [2250, 2375], [2375, 2500], [2500, 2625], [2625, 2750], [2750, 2875], [2875, 3000], [3000, 3125], [3125, 3250], [3250, 3375], [3375, 3500], [3500, 3625], [3625, 3750], [3750, 3875], [3875, 4000], [4000, 4125], [4125, 4250], [4250, 4375], [4375, 4500], [4500, 4625], [4625, 4750], [4750, 4875], [4875, 5000]]', 'hidden_size_exp': 7, 'num_hidden_layers': 2}. Best is trial 0 with value: 0.5874999761581421.\n",
      "[I 2024-10-04 10:37:51,482] Trial 1 finished with value: 0.6000000238418579 and parameters: {'wins': '[[1500, 1625], [1625, 1750], [1750, 1875], [1875, 2000], [2000, 2125], [2125, 2250], [2250, 2375], [2375, 2500], [2500, 2625], [2625, 2750], [2750, 2875], [2875, 3000], [3000, 3125], [3125, 3250], [3250, 3375], [3375, 3500], [3500, 3625], [3625, 3750], [3750, 3875], [3875, 4000], [4000, 4125], [4125, 4250], [4250, 4375], [4375, 4500], [4500, 4625], [4625, 4750], [4750, 4875], [4875, 5000]]', 'hidden_size_exp': 8, 'num_hidden_layers': 2}. Best is trial 1 with value: 0.6000000238418579.\n"
     ]
    },
    {
     "name": "stdout",
     "output_type": "stream",
     "text": [
      "repeat\n"
     ]
    },
    {
     "name": "stderr",
     "output_type": "stream",
     "text": [
      "[I 2024-10-04 10:41:33,994] Trial 2 finished with value: 0.612500011920929 and parameters: {'wins': '[[1500, 1625], [1625, 1750], [1750, 1875], [1875, 2000], [2000, 2125], [2125, 2250], [2250, 2375], [2375, 2500], [2500, 2625], [2625, 2750], [2750, 2875], [2875, 3000], [3000, 3125], [3125, 3250], [3250, 3375], [3375, 3500], [3500, 3625], [3625, 3750], [3750, 3875], [3875, 4000], [4000, 4125], [4125, 4250], [4250, 4375], [4375, 4500], [4500, 4625], [4625, 4750], [4750, 4875], [4875, 5000]]', 'hidden_size_exp': 8, 'num_hidden_layers': 2}. Best is trial 2 with value: 0.612500011920929.\n",
      "[I 2024-10-04 10:45:47,997] Trial 3 finished with value: 0.574999988079071 and parameters: {'wins': '[[1500, 1625], [1625, 1750], [1750, 1875], [1875, 2000], [2000, 2125], [2125, 2250], [2250, 2375], [2375, 2500], [2500, 2625], [2625, 2750], [2750, 2875], [2875, 3000], [3000, 3125], [3125, 3250], [3250, 3375], [3375, 3500], [3500, 3625], [3625, 3750], [3750, 3875], [3875, 4000], [4000, 4125], [4125, 4250], [4250, 4375], [4375, 4500], [4500, 4625], [4625, 4750], [4750, 4875], [4875, 5000]]', 'hidden_size_exp': 9, 'num_hidden_layers': 3}. Best is trial 2 with value: 0.612500011920929.\n",
      "[I 2024-10-04 10:49:32,759] Trial 4 finished with value: 0.6000000238418579 and parameters: {'wins': '[[1500, 1625], [1625, 1750], [1750, 1875], [1875, 2000], [2000, 2125], [2125, 2250], [2250, 2375], [2375, 2500], [2500, 2625], [2625, 2750], [2750, 2875], [2875, 3000], [3000, 3125], [3125, 3250], [3250, 3375], [3375, 3500], [3500, 3625], [3625, 3750], [3750, 3875], [3875, 4000], [4000, 4125], [4125, 4250], [4250, 4375], [4375, 4500], [4500, 4625], [4625, 4750], [4750, 4875], [4875, 5000]]', 'hidden_size_exp': 9, 'num_hidden_layers': 2}. Best is trial 2 with value: 0.612500011920929.\n"
     ]
    },
    {
     "name": "stdout",
     "output_type": "stream",
     "text": [
      "{'wins': '[[1500, 1625], [1625, 1750], [1750, 1875], [1875, 2000], [2000, 2125], [2125, 2250], [2250, 2375], [2375, 2500], [2500, 2625], [2625, 2750], [2750, 2875], [2875, 3000], [3000, 3125], [3125, 3250], [3250, 3375], [3375, 3500], [3500, 3625], [3625, 3750], [3750, 3875], [3875, 4000], [4000, 4125], [4125, 4250], [4250, 4375], [4375, 4500], [4500, 4625], [4625, 4750], [4750, 4875], [4875, 5000]]', 'hidden_size_exp': 8, 'num_hidden_layers': 2} 0.612500011920929\n"
     ]
    },
    {
     "name": "stderr",
     "output_type": "stream",
     "text": [
      "[I 2024-10-04 10:49:33,853] A new study created in memory with name: no-name-fd73d8aa-ea8e-4fe2-9c71-2f10cc12d504\n",
      "[I 2024-10-04 10:53:20,032] Trial 0 finished with value: 0.22499999403953552 and parameters: {'wins': '[[1500, 1625], [1625, 1750], [1750, 1875], [1875, 2000], [2000, 2125], [2125, 2250], [2250, 2375], [2375, 2500], [2500, 2625], [2625, 2750], [2750, 2875], [2875, 3000], [3000, 3125], [3125, 3250], [3250, 3375], [3375, 3500], [3500, 3625], [3625, 3750], [3750, 3875], [3875, 4000], [4000, 4125], [4125, 4250], [4250, 4375], [4375, 4500], [4500, 4625], [4625, 4750], [4750, 4875], [4875, 5000]]', 'hidden_size_exp': 8, 'num_hidden_layers': 2}. Best is trial 0 with value: 0.22499999403953552.\n",
      "[I 2024-10-04 10:57:05,979] Trial 1 finished with value: 0.21250000596046448 and parameters: {'wins': '[[1500, 1625], [1625, 1750], [1750, 1875], [1875, 2000], [2000, 2125], [2125, 2250], [2250, 2375], [2375, 2500], [2500, 2625], [2625, 2750], [2750, 2875], [2875, 3000], [3000, 3125], [3125, 3250], [3250, 3375], [3375, 3500], [3500, 3625], [3625, 3750], [3750, 3875], [3875, 4000], [4000, 4125], [4125, 4250], [4250, 4375], [4375, 4500], [4500, 4625], [4625, 4750], [4750, 4875], [4875, 5000]]', 'hidden_size_exp': 9, 'num_hidden_layers': 2}. Best is trial 0 with value: 0.22499999403953552.\n",
      "[I 2024-10-04 11:01:17,203] Trial 2 finished with value: 0.23749999701976776 and parameters: {'wins': '[[1500, 1625], [1625, 1750], [1750, 1875], [1875, 2000], [2000, 2125], [2125, 2250], [2250, 2375], [2375, 2500], [2500, 2625], [2625, 2750], [2750, 2875], [2875, 3000], [3000, 3125], [3125, 3250], [3250, 3375], [3375, 3500], [3500, 3625], [3625, 3750], [3750, 3875], [3875, 4000], [4000, 4125], [4125, 4250], [4250, 4375], [4375, 4500], [4500, 4625], [4625, 4750], [4750, 4875], [4875, 5000]]', 'hidden_size_exp': 9, 'num_hidden_layers': 3}. Best is trial 2 with value: 0.23749999701976776.\n"
     ]
    },
    {
     "name": "stdout",
     "output_type": "stream",
     "text": [
      "repeat\n"
     ]
    },
    {
     "name": "stderr",
     "output_type": "stream",
     "text": [
      "[I 2024-10-04 11:05:04,622] Trial 3 finished with value: 0.2750000059604645 and parameters: {'wins': '[[1500, 1625], [1625, 1750], [1750, 1875], [1875, 2000], [2000, 2125], [2125, 2250], [2250, 2375], [2375, 2500], [2500, 2625], [2625, 2750], [2750, 2875], [2875, 3000], [3000, 3125], [3125, 3250], [3250, 3375], [3375, 3500], [3500, 3625], [3625, 3750], [3750, 3875], [3875, 4000], [4000, 4125], [4125, 4250], [4250, 4375], [4375, 4500], [4500, 4625], [4625, 4750], [4750, 4875], [4875, 5000]]', 'hidden_size_exp': 8, 'num_hidden_layers': 2}. Best is trial 3 with value: 0.2750000059604645.\n"
     ]
    },
    {
     "name": "stdout",
     "output_type": "stream",
     "text": [
      "repeat\n"
     ]
    },
    {
     "name": "stderr",
     "output_type": "stream",
     "text": [
      "[I 2024-10-04 11:09:23,863] Trial 4 finished with value: 0.26249998807907104 and parameters: {'wins': '[[1500, 1625], [1625, 1750], [1750, 1875], [1875, 2000], [2000, 2125], [2125, 2250], [2250, 2375], [2375, 2500], [2500, 2625], [2625, 2750], [2750, 2875], [2875, 3000], [3000, 3125], [3125, 3250], [3250, 3375], [3375, 3500], [3500, 3625], [3625, 3750], [3750, 3875], [3875, 4000], [4000, 4125], [4125, 4250], [4250, 4375], [4375, 4500], [4500, 4625], [4625, 4750], [4750, 4875], [4875, 5000]]', 'hidden_size_exp': 9, 'num_hidden_layers': 3}. Best is trial 3 with value: 0.2750000059604645.\n"
     ]
    },
    {
     "name": "stdout",
     "output_type": "stream",
     "text": [
      "{'wins': '[[1500, 1625], [1625, 1750], [1750, 1875], [1875, 2000], [2000, 2125], [2125, 2250], [2250, 2375], [2375, 2500], [2500, 2625], [2625, 2750], [2750, 2875], [2875, 3000], [3000, 3125], [3125, 3250], [3250, 3375], [3375, 3500], [3500, 3625], [3625, 3750], [3750, 3875], [3875, 4000], [4000, 4125], [4125, 4250], [4250, 4375], [4375, 4500], [4500, 4625], [4625, 4750], [4750, 4875], [4875, 5000]]', 'hidden_size_exp': 8, 'num_hidden_layers': 2} 0.2750000059604645\n"
     ]
    },
    {
     "name": "stderr",
     "output_type": "stream",
     "text": [
      "[I 2024-10-04 11:09:24,732] A new study created in memory with name: no-name-1377aa9b-9366-44f8-aece-18aefda4bc68\n",
      "[I 2024-10-04 11:13:13,149] Trial 0 finished with value: 0.44999998807907104 and parameters: {'wins': '[[1500, 1625], [1625, 1750], [1750, 1875], [1875, 2000], [2000, 2125], [2125, 2250], [2250, 2375], [2375, 2500], [2500, 2625], [2625, 2750], [2750, 2875], [2875, 3000], [3000, 3125], [3125, 3250], [3250, 3375], [3375, 3500], [3500, 3625], [3625, 3750], [3750, 3875], [3875, 4000], [4000, 4125], [4125, 4250], [4250, 4375], [4375, 4500], [4500, 4625], [4625, 4750], [4750, 4875], [4875, 5000]]', 'hidden_size_exp': 8, 'num_hidden_layers': 2}. Best is trial 0 with value: 0.44999998807907104.\n",
      "[I 2024-10-04 11:17:16,731] Trial 1 finished with value: 0.4749999940395355 and parameters: {'wins': '[[1500, 1625], [1625, 1750], [1750, 1875], [1875, 2000], [2000, 2125], [2125, 2250], [2250, 2375], [2375, 2500], [2500, 2625], [2625, 2750], [2750, 2875], [2875, 3000], [3000, 3125], [3125, 3250], [3250, 3375], [3375, 3500], [3500, 3625], [3625, 3750], [3750, 3875], [3875, 4000], [4000, 4125], [4125, 4250], [4250, 4375], [4375, 4500], [4500, 4625], [4625, 4750], [4750, 4875], [4875, 5000]]', 'hidden_size_exp': 9, 'num_hidden_layers': 2}. Best is trial 1 with value: 0.4749999940395355.\n",
      "[I 2024-10-04 11:20:59,852] Trial 2 finished with value: 0.44999998807907104 and parameters: {'wins': '[[1500, 1625], [1625, 1750], [1750, 1875], [1875, 2000], [2000, 2125], [2125, 2250], [2250, 2375], [2375, 2500], [2500, 2625], [2625, 2750], [2750, 2875], [2875, 3000], [3000, 3125], [3125, 3250], [3250, 3375], [3375, 3500], [3500, 3625], [3625, 3750], [3750, 3875], [3875, 4000], [4000, 4125], [4125, 4250], [4250, 4375], [4375, 4500], [4500, 4625], [4625, 4750], [4750, 4875], [4875, 5000]]', 'hidden_size_exp': 7, 'num_hidden_layers': 2}. Best is trial 1 with value: 0.4749999940395355.\n",
      "[I 2024-10-04 11:25:24,763] Trial 3 finished with value: 0.5 and parameters: {'wins': '[[1500, 1625], [1625, 1750], [1750, 1875], [1875, 2000], [2000, 2125], [2125, 2250], [2250, 2375], [2375, 2500], [2500, 2625], [2625, 2750], [2750, 2875], [2875, 3000], [3000, 3125], [3125, 3250], [3250, 3375], [3375, 3500], [3500, 3625], [3625, 3750], [3750, 3875], [3875, 4000], [4000, 4125], [4125, 4250], [4250, 4375], [4375, 4500], [4500, 4625], [4625, 4750], [4750, 4875], [4875, 5000]]', 'hidden_size_exp': 9, 'num_hidden_layers': 3}. Best is trial 3 with value: 0.5.\n"
     ]
    },
    {
     "name": "stdout",
     "output_type": "stream",
     "text": [
      "repeat\n"
     ]
    },
    {
     "name": "stderr",
     "output_type": "stream",
     "text": [
      "[I 2024-10-04 11:29:26,491] Trial 4 finished with value: 0.4625000059604645 and parameters: {'wins': '[[1500, 1625], [1625, 1750], [1750, 1875], [1875, 2000], [2000, 2125], [2125, 2250], [2250, 2375], [2375, 2500], [2500, 2625], [2625, 2750], [2750, 2875], [2875, 3000], [3000, 3125], [3125, 3250], [3250, 3375], [3375, 3500], [3500, 3625], [3625, 3750], [3750, 3875], [3875, 4000], [4000, 4125], [4125, 4250], [4250, 4375], [4375, 4500], [4500, 4625], [4625, 4750], [4750, 4875], [4875, 5000]]', 'hidden_size_exp': 9, 'num_hidden_layers': 2}. Best is trial 3 with value: 0.5.\n"
     ]
    },
    {
     "name": "stdout",
     "output_type": "stream",
     "text": [
      "{'wins': '[[1500, 1625], [1625, 1750], [1750, 1875], [1875, 2000], [2000, 2125], [2125, 2250], [2250, 2375], [2375, 2500], [2500, 2625], [2625, 2750], [2750, 2875], [2875, 3000], [3000, 3125], [3125, 3250], [3250, 3375], [3375, 3500], [3500, 3625], [3625, 3750], [3750, 3875], [3875, 4000], [4000, 4125], [4125, 4250], [4250, 4375], [4375, 4500], [4500, 4625], [4625, 4750], [4750, 4875], [4875, 5000]]', 'hidden_size_exp': 9, 'num_hidden_layers': 3} 0.5\n"
     ]
    },
    {
     "name": "stderr",
     "output_type": "stream",
     "text": [
      "[I 2024-10-04 11:29:28,760] A new study created in memory with name: no-name-7074c2c0-8910-478b-9a15-67f59f1da2f1\n",
      "[I 2024-10-04 11:33:22,756] Trial 0 finished with value: 0.6000000238418579 and parameters: {'wins': '[[1500, 1625], [1625, 1750], [1750, 1875], [1875, 2000], [2000, 2125], [2125, 2250], [2250, 2375], [2375, 2500], [2500, 2625], [2625, 2750], [2750, 2875], [2875, 3000], [3000, 3125], [3125, 3250], [3250, 3375], [3375, 3500], [3500, 3625], [3625, 3750], [3750, 3875], [3875, 4000], [4000, 4125], [4125, 4250], [4250, 4375], [4375, 4500], [4500, 4625], [4625, 4750], [4750, 4875], [4875, 5000]]', 'hidden_size_exp': 8, 'num_hidden_layers': 2}. Best is trial 0 with value: 0.6000000238418579.\n",
      "[I 2024-10-04 11:37:17,460] Trial 1 finished with value: 0.574999988079071 and parameters: {'wins': '[[1500, 1625], [1625, 1750], [1750, 1875], [1875, 2000], [2000, 2125], [2125, 2250], [2250, 2375], [2375, 2500], [2500, 2625], [2625, 2750], [2750, 2875], [2875, 3000], [3000, 3125], [3125, 3250], [3250, 3375], [3375, 3500], [3500, 3625], [3625, 3750], [3750, 3875], [3875, 4000], [4000, 4125], [4125, 4250], [4250, 4375], [4375, 4500], [4500, 4625], [4625, 4750], [4750, 4875], [4875, 5000]]', 'hidden_size_exp': 7, 'num_hidden_layers': 2}. Best is trial 0 with value: 0.6000000238418579.\n",
      "[I 2024-10-04 11:41:36,602] Trial 2 finished with value: 0.6000000238418579 and parameters: {'wins': '[[1500, 1625], [1625, 1750], [1750, 1875], [1875, 2000], [2000, 2125], [2125, 2250], [2250, 2375], [2375, 2500], [2500, 2625], [2625, 2750], [2750, 2875], [2875, 3000], [3000, 3125], [3125, 3250], [3250, 3375], [3375, 3500], [3500, 3625], [3625, 3750], [3750, 3875], [3875, 4000], [4000, 4125], [4125, 4250], [4250, 4375], [4375, 4500], [4500, 4625], [4625, 4750], [4750, 4875], [4875, 5000]]', 'hidden_size_exp': 7, 'num_hidden_layers': 3}. Best is trial 0 with value: 0.6000000238418579.\n"
     ]
    },
    {
     "name": "stdout",
     "output_type": "stream",
     "text": [
      "repeat\n"
     ]
    },
    {
     "name": "stderr",
     "output_type": "stream",
     "text": [
      "[I 2024-10-04 11:45:29,680] Trial 3 finished with value: 0.5625 and parameters: {'wins': '[[1500, 1625], [1625, 1750], [1750, 1875], [1875, 2000], [2000, 2125], [2125, 2250], [2250, 2375], [2375, 2500], [2500, 2625], [2625, 2750], [2750, 2875], [2875, 3000], [3000, 3125], [3125, 3250], [3250, 3375], [3375, 3500], [3500, 3625], [3625, 3750], [3750, 3875], [3875, 4000], [4000, 4125], [4125, 4250], [4250, 4375], [4375, 4500], [4500, 4625], [4625, 4750], [4750, 4875], [4875, 5000]]', 'hidden_size_exp': 8, 'num_hidden_layers': 2}. Best is trial 0 with value: 0.6000000238418579.\n"
     ]
    },
    {
     "name": "stdout",
     "output_type": "stream",
     "text": [
      "repeat\n"
     ]
    },
    {
     "name": "stderr",
     "output_type": "stream",
     "text": [
      "[I 2024-10-04 11:49:31,490] Trial 4 finished with value: 0.5375000238418579 and parameters: {'wins': '[[1500, 1625], [1625, 1750], [1750, 1875], [1875, 2000], [2000, 2125], [2125, 2250], [2250, 2375], [2375, 2500], [2500, 2625], [2625, 2750], [2750, 2875], [2875, 3000], [3000, 3125], [3125, 3250], [3250, 3375], [3375, 3500], [3500, 3625], [3625, 3750], [3750, 3875], [3875, 4000], [4000, 4125], [4125, 4250], [4250, 4375], [4375, 4500], [4500, 4625], [4625, 4750], [4750, 4875], [4875, 5000]]', 'hidden_size_exp': 7, 'num_hidden_layers': 3}. Best is trial 0 with value: 0.6000000238418579.\n"
     ]
    },
    {
     "name": "stdout",
     "output_type": "stream",
     "text": [
      "{'wins': '[[1500, 1625], [1625, 1750], [1750, 1875], [1875, 2000], [2000, 2125], [2125, 2250], [2250, 2375], [2375, 2500], [2500, 2625], [2625, 2750], [2750, 2875], [2875, 3000], [3000, 3125], [3125, 3250], [3250, 3375], [3375, 3500], [3500, 3625], [3625, 3750], [3750, 3875], [3875, 4000], [4000, 4125], [4125, 4250], [4250, 4375], [4375, 4500], [4500, 4625], [4625, 4750], [4750, 4875], [4875, 5000]]', 'hidden_size_exp': 8, 'num_hidden_layers': 2} 0.6000000238418579\n"
     ]
    },
    {
     "name": "stderr",
     "output_type": "stream",
     "text": [
      "[I 2024-10-04 11:49:32,408] A new study created in memory with name: no-name-8a69a3de-ccb1-462e-90ee-3e7d580cbb0d\n",
      "[I 2024-10-04 11:53:12,058] Trial 0 finished with value: 0.20000000298023224 and parameters: {'wins': '[[1500, 1625], [1625, 1750], [1750, 1875], [1875, 2000], [2000, 2125], [2125, 2250], [2250, 2375], [2375, 2500], [2500, 2625], [2625, 2750], [2750, 2875], [2875, 3000], [3000, 3125], [3125, 3250], [3250, 3375], [3375, 3500], [3500, 3625], [3625, 3750], [3750, 3875], [3875, 4000], [4000, 4125], [4125, 4250], [4250, 4375], [4375, 4500], [4500, 4625], [4625, 4750], [4750, 4875], [4875, 5000]]', 'hidden_size_exp': 7, 'num_hidden_layers': 2}. Best is trial 0 with value: 0.20000000298023224.\n",
      "[I 2024-10-04 11:57:13,707] Trial 1 finished with value: 0.1875 and parameters: {'wins': '[[1500, 1625], [1625, 1750], [1750, 1875], [1875, 2000], [2000, 2125], [2125, 2250], [2250, 2375], [2375, 2500], [2500, 2625], [2625, 2750], [2750, 2875], [2875, 3000], [3000, 3125], [3125, 3250], [3250, 3375], [3375, 3500], [3500, 3625], [3625, 3750], [3750, 3875], [3875, 4000], [4000, 4125], [4125, 4250], [4250, 4375], [4375, 4500], [4500, 4625], [4625, 4750], [4750, 4875], [4875, 5000]]', 'hidden_size_exp': 7, 'num_hidden_layers': 3}. Best is trial 0 with value: 0.20000000298023224.\n",
      "[I 2024-10-04 12:01:24,289] Trial 2 finished with value: 0.20000000298023224 and parameters: {'wins': '[[1500, 1625], [1625, 1750], [1750, 1875], [1875, 2000], [2000, 2125], [2125, 2250], [2250, 2375], [2375, 2500], [2500, 2625], [2625, 2750], [2750, 2875], [2875, 3000], [3000, 3125], [3125, 3250], [3250, 3375], [3375, 3500], [3500, 3625], [3625, 3750], [3750, 3875], [3875, 4000], [4000, 4125], [4125, 4250], [4250, 4375], [4375, 4500], [4500, 4625], [4625, 4750], [4750, 4875], [4875, 5000]]', 'hidden_size_exp': 9, 'num_hidden_layers': 3}. Best is trial 0 with value: 0.20000000298023224.\n",
      "[I 2024-10-04 12:05:08,145] Trial 3 finished with value: 0.1875 and parameters: {'wins': '[[1500, 1625], [1625, 1750], [1750, 1875], [1875, 2000], [2000, 2125], [2125, 2250], [2250, 2375], [2375, 2500], [2500, 2625], [2625, 2750], [2750, 2875], [2875, 3000], [3000, 3125], [3125, 3250], [3250, 3375], [3375, 3500], [3500, 3625], [3625, 3750], [3750, 3875], [3875, 4000], [4000, 4125], [4125, 4250], [4250, 4375], [4375, 4500], [4500, 4625], [4625, 4750], [4750, 4875], [4875, 5000]]', 'hidden_size_exp': 8, 'num_hidden_layers': 2}. Best is trial 0 with value: 0.20000000298023224.\n"
     ]
    },
    {
     "name": "stdout",
     "output_type": "stream",
     "text": [
      "repeat\n"
     ]
    },
    {
     "name": "stderr",
     "output_type": "stream",
     "text": [
      "[I 2024-10-04 12:08:49,931] Trial 4 finished with value: 0.20000000298023224 and parameters: {'wins': '[[1500, 1625], [1625, 1750], [1750, 1875], [1875, 2000], [2000, 2125], [2125, 2250], [2250, 2375], [2375, 2500], [2500, 2625], [2625, 2750], [2750, 2875], [2875, 3000], [3000, 3125], [3125, 3250], [3250, 3375], [3375, 3500], [3500, 3625], [3625, 3750], [3750, 3875], [3875, 4000], [4000, 4125], [4125, 4250], [4250, 4375], [4375, 4500], [4500, 4625], [4625, 4750], [4750, 4875], [4875, 5000]]', 'hidden_size_exp': 8, 'num_hidden_layers': 2}. Best is trial 0 with value: 0.20000000298023224.\n"
     ]
    },
    {
     "name": "stdout",
     "output_type": "stream",
     "text": [
      "{'wins': '[[1500, 1625], [1625, 1750], [1750, 1875], [1875, 2000], [2000, 2125], [2125, 2250], [2250, 2375], [2375, 2500], [2500, 2625], [2625, 2750], [2750, 2875], [2875, 3000], [3000, 3125], [3125, 3250], [3250, 3375], [3375, 3500], [3500, 3625], [3625, 3750], [3750, 3875], [3875, 4000], [4000, 4125], [4125, 4250], [4250, 4375], [4375, 4500], [4500, 4625], [4625, 4750], [4750, 4875], [4875, 5000]]', 'hidden_size_exp': 7, 'num_hidden_layers': 2} 0.20000000298023224\n"
     ]
    },
    {
     "name": "stderr",
     "output_type": "stream",
     "text": [
      "[I 2024-10-04 12:08:50,819] A new study created in memory with name: no-name-1694c3fc-3591-40f3-ba2e-5e9432a02ce3\n",
      "[I 2024-10-04 12:13:19,009] Trial 0 finished with value: 0.22499999403953552 and parameters: {'wins': '[[1500, 1625], [1625, 1750], [1750, 1875], [1875, 2000], [2000, 2125], [2125, 2250], [2250, 2375], [2375, 2500], [2500, 2625], [2625, 2750], [2750, 2875], [2875, 3000], [3000, 3125], [3125, 3250], [3250, 3375], [3375, 3500], [3500, 3625], [3625, 3750], [3750, 3875], [3875, 4000], [4000, 4125], [4125, 4250], [4250, 4375], [4375, 4500], [4500, 4625], [4625, 4750], [4750, 4875], [4875, 5000]]', 'hidden_size_exp': 9, 'num_hidden_layers': 3}. Best is trial 0 with value: 0.22499999403953552.\n",
      "[I 2024-10-04 12:17:27,515] Trial 1 finished with value: 0.16249999403953552 and parameters: {'wins': '[[1500, 1625], [1625, 1750], [1750, 1875], [1875, 2000], [2000, 2125], [2125, 2250], [2250, 2375], [2375, 2500], [2500, 2625], [2625, 2750], [2750, 2875], [2875, 3000], [3000, 3125], [3125, 3250], [3250, 3375], [3375, 3500], [3500, 3625], [3625, 3750], [3750, 3875], [3875, 4000], [4000, 4125], [4125, 4250], [4250, 4375], [4375, 4500], [4500, 4625], [4625, 4750], [4750, 4875], [4875, 5000]]', 'hidden_size_exp': 7, 'num_hidden_layers': 3}. Best is trial 0 with value: 0.22499999403953552.\n",
      "[I 2024-10-04 12:21:16,011] Trial 2 finished with value: 0.1875 and parameters: {'wins': '[[1500, 1625], [1625, 1750], [1750, 1875], [1875, 2000], [2000, 2125], [2125, 2250], [2250, 2375], [2375, 2500], [2500, 2625], [2625, 2750], [2750, 2875], [2875, 3000], [3000, 3125], [3125, 3250], [3250, 3375], [3375, 3500], [3500, 3625], [3625, 3750], [3750, 3875], [3875, 4000], [4000, 4125], [4125, 4250], [4250, 4375], [4375, 4500], [4500, 4625], [4625, 4750], [4750, 4875], [4875, 5000]]', 'hidden_size_exp': 9, 'num_hidden_layers': 2}. Best is trial 0 with value: 0.22499999403953552.\n"
     ]
    },
    {
     "name": "stdout",
     "output_type": "stream",
     "text": [
      "repeat\n"
     ]
    },
    {
     "name": "stderr",
     "output_type": "stream",
     "text": [
      "[I 2024-10-04 12:25:32,113] Trial 3 finished with value: 0.22499999403953552 and parameters: {'wins': '[[1500, 1625], [1625, 1750], [1750, 1875], [1875, 2000], [2000, 2125], [2125, 2250], [2250, 2375], [2375, 2500], [2500, 2625], [2625, 2750], [2750, 2875], [2875, 3000], [3000, 3125], [3125, 3250], [3250, 3375], [3375, 3500], [3500, 3625], [3625, 3750], [3750, 3875], [3875, 4000], [4000, 4125], [4125, 4250], [4250, 4375], [4375, 4500], [4500, 4625], [4625, 4750], [4750, 4875], [4875, 5000]]', 'hidden_size_exp': 9, 'num_hidden_layers': 3}. Best is trial 0 with value: 0.22499999403953552.\n"
     ]
    },
    {
     "name": "stdout",
     "output_type": "stream",
     "text": [
      "repeat\n"
     ]
    },
    {
     "name": "stderr",
     "output_type": "stream",
     "text": [
      "[I 2024-10-04 12:29:26,778] Trial 4 finished with value: 0.22499999403953552 and parameters: {'wins': '[[1500, 1625], [1625, 1750], [1750, 1875], [1875, 2000], [2000, 2125], [2125, 2250], [2250, 2375], [2375, 2500], [2500, 2625], [2625, 2750], [2750, 2875], [2875, 3000], [3000, 3125], [3125, 3250], [3250, 3375], [3375, 3500], [3500, 3625], [3625, 3750], [3750, 3875], [3875, 4000], [4000, 4125], [4125, 4250], [4250, 4375], [4375, 4500], [4500, 4625], [4625, 4750], [4750, 4875], [4875, 5000]]', 'hidden_size_exp': 9, 'num_hidden_layers': 2}. Best is trial 0 with value: 0.22499999403953552.\n"
     ]
    },
    {
     "name": "stdout",
     "output_type": "stream",
     "text": [
      "{'wins': '[[1500, 1625], [1625, 1750], [1750, 1875], [1875, 2000], [2000, 2125], [2125, 2250], [2250, 2375], [2375, 2500], [2500, 2625], [2625, 2750], [2750, 2875], [2875, 3000], [3000, 3125], [3125, 3250], [3250, 3375], [3375, 3500], [3500, 3625], [3625, 3750], [3750, 3875], [3875, 4000], [4000, 4125], [4125, 4250], [4250, 4375], [4375, 4500], [4500, 4625], [4625, 4750], [4750, 4875], [4875, 5000]]', 'hidden_size_exp': 9, 'num_hidden_layers': 3} 0.22499999403953552\n"
     ]
    }
   ],
   "source": [
    "# data_type = 'msng'\n",
    "# area = None\n",
    "# phase = None\n",
    "# win_opt_1 = [[x, x + 125] for x in range(1500, 5000, 125)]\n",
    "# win_opt_1 = [[1500, 2000], [2000, 2500], [2500, 3000], [3000, 3500], [3500, 4000], [4000, 4500], [4500, 5000]]\n",
    "# exps = [\n",
    "#     (None, 'PFC', None),\n",
    "#     (None, 'PPC', None),\n",
    "#     (None, 'PFC', '46'),\n",
    "#     (None, 'PFC', '8'),\n",
    "#     (None, 'PPC', '7a'),\n",
    "#     (None, 'PPC', 'LIP'),\n",
    "#     ('KEN', 'PFC', None),\n",
    "#     ('LEM', 'PFC', None),\n",
    "#     ('KEN', 'PPC', None),\n",
    "#     ('LEM', 'PPC', None),\n",
    "#     ('KEN', 'PPC', '7a'),\n",
    "#     ('LEM', 'PPC', '7a'),\n",
    "#     ('KEN', 'PPC', 'LIP'),\n",
    "#     ('LEM', 'PPC', 'LIP'),\n",
    "# ]\n",
    "\n",
    "# data_type = 'mnm_feature'\n",
    "# area = 'PFC'\n",
    "# win_opt_1 = [[x, x + 125] for x in range(1500, 5000, 125)]\n",
    "# win_opt_1 = [[1500, 2000], [2000, 2500], [2500, 3000], [3000, 3500], [3500, 4000], [4000, 4500], [4500, 5000]]\n",
    "# exps = [\n",
    "#     (None, None, \"PRE\"),\n",
    "#     (None, None, \"POST\"),\n",
    "#     (None, \"MD\", \"PRE\"),\n",
    "#     (None, \"MD\", \"POST\"),\n",
    "#     (None, \"PV\", \"PRE\"),\n",
    "#     (None, \"PV\", \"POST\"),\n",
    "#     (None, \"AD\", \"PRE\"),\n",
    "#     (None, \"PD\", \"POST\"),\n",
    "#     ('BEN', 'MD', 'PRE'),\n",
    "#     ('ELV', 'MD', 'PRE'),\n",
    "#     ('ELV', 'MD', 'POST'),\n",
    "#     ('ELV', 'PV', 'PRE'),\n",
    "#     ('ELV', 'PV', 'POST'),\n",
    "#     ('MAN', 'AD', 'PRE')\n",
    "# ]\n",
    "\n",
    "data_type = 'mnm_spatial'\n",
    "# area = 'PFC'\n",
    "# win_opt_1 = [\n",
    "#     [1500, 1750], [1750, 2000],\n",
    "#     [2000, 2250], [2250, 2500],\n",
    "#     [2500, 2750], [2750, 3000],\n",
    "#     [3000, 3250], [3250, 3500],\n",
    "#     [3500, 3750], [3750, 4000],\n",
    "#     [4000, 4250], [4250, 4500],\n",
    "#     [4500, 4750], [4750, 5000],\n",
    "# ]\n",
    "win_opt_1 = [[x, x + 125] for x in range(1500, 5000, 125)]\n",
    "# exps = [\n",
    "# (None, None, \"PRE\"),\n",
    "# (None, None, \"POST\"),\n",
    "# (None, \"MD\", \"PRE\"),\n",
    "# (None, \"MD\", \"POST\"),\n",
    "# (None, \"PD\", \"PRE\"),\n",
    "# (None, \"PD\", \"POST\"),\n",
    "# (None, \"PV\", \"PRE\"),\n",
    "# (None, \"PV\", \"POST\"),\n",
    "# (None, \"AD\", \"POST\"),\n",
    "# (\"ELV\", \"MD\", \"PRE\"),\n",
    "# (\"ELV\", \"MD\", \"POST\"),\n",
    "# (\"ELV\", \"PV\", \"POST\"),\n",
    "# (\"ELV\", \"MD\", \"PRE\"),\n",
    "# (\"ELV\", \"MD\", \"PRE\"),\n",
    "# (\"ADR\", \"PD\", \"POST\"),\n",
    "# (\"NIN\", \"AD\", \"PRE\"),\n",
    "# (\"BEN\", \"MD\", \"PRE\"),\n",
    "# ]\n",
    "\n",
    "# data_type = 'odr'\n",
    "# subregion = None\n",
    "# phase = None\n",
    "# win_opt_1 = [[1500, 2000], [2000, 2500], [2500, 3000]]\n",
    "# win_opt_1 = [[x, x + 125] for x in range(1500, 3000, 125)]\n",
    "# exps = [\n",
    "#     ('YOUNG', 'PFC'),\n",
    "#     ('KEN', 'PFC'),\n",
    "#     ('LEM', 'PFC'),\n",
    "#     ('ELV', 'PFC'),\n",
    "#     ('KEN', 'PPC'),\n",
    "#     ('LEM', 'PPC'),\n",
    "#     ('ELV', 'PPC'),\n",
    "# ]\n",
    "\n",
    "# for exp in exps:\n",
    "#     data_func = eval(f'load_{data_type}')\n",
    "#     if data_type.startswith('mnm'):\n",
    "#         (monkey, subregion, phase) = exp\n",
    "#         experiment_name = f'{data_type}-{monkey}-{area}-{subregion}-{phase}'\n",
    "#     elif data_type == 'odr':\n",
    "#         (monkey, area) = exp\n",
    "#         experiment_name = f'{data_type}-{monkey}-{area}'\n",
    "#     elif data_type == 'msng':\n",
    "#         (monkey, area, subregion) = exp\n",
    "#         experiment_name = f'{data_type}-{monkey}-{area}-{subregion}'\n",
    "#     # mlflow.pytorch.autolog()\n",
    "#     n_trials = 10\n",
    "\n",
    "#     try_model(experiment_name, data_func, sklearn.neighbors.KNeighborsClassifier(), monkey, area, subregion, phase, [win_opt_1], n_trials, existing_mode='abort')\n",
    "#     try_model(experiment_name, data_func, sklearn.linear_model.LogisticRegression(max_iter=1000), monkey, area, subregion, phase, [win_opt_1], n_trials, existing_mode='abort')\n",
    "#     try_model(experiment_name, data_func, sklearn.svm.SVC(), monkey, area, subregion, phase, [win_opt_1], n_trials, existing_mode='abort')\n",
    "#     try_model(experiment_name, data_func, CrossEntropyFNN, monkey, area, subregion, phase, [win_opt_1], n_trials, existing_mode='abort')\n",
    "\n",
    "experiment_name = f'{data_type}-single-neuron'\n",
    "data = prepare_data(eval(f'load_{data_type}'), None, None, None, None, win_opt_1, 120, 1e-5, None)\n",
    "\n",
    "print(len(data['cells']))\n",
    "\n",
    "for cell, _ in data['cells'].iterrows():\n",
    "    try_model(experiment_name, eval(f'load_{data_type}'), CrossEntropyFNN, None, None, None, None, [win_opt_1], 5, existing_mode='abort', cell=cell)"
   ]
  },
  {
   "cell_type": "code",
   "execution_count": 36,
   "metadata": {},
   "outputs": [
    {
     "name": "stdout",
     "output_type": "stream",
     "text": [
      "msng-single-neuron\n",
      "msng-LEM-PPC-LIP\n",
      "msng-KEN-PPC-LIP\n",
      "msng-LEM-PPC-7a\n",
      "msng-KEN-PPC-7a\n",
      "msng-LEM-PPC-None\n",
      "msng-KEN-PPC-None\n",
      "msng-LEM-PFC-None\n",
      "msng-KEN-PFC-None\n",
      "msng-None-PPC-LIP\n",
      "msng-None-PPC-7a\n",
      "msng-None-PFC-8\n",
      "msng-None-PFC-46\n",
      "msng-None-PPC-None\n",
      "msng-None-PFC-None\n"
     ]
    }
   ],
   "source": [
    "for exp in mlflow.search_experiments():\n",
    "    if ('msng' in exp.name):\n",
    "        print(exp.name)\n",
    "        # mlflow.MlflowClient().delete_experiment(exp.experiment_id)\n",
    "        # mlflow.MlflowClient().rename_experiment(exp.experiment_id, 'bak-msng-' + exp.name[4:])\n"
   ]
  }
 ],
 "metadata": {
  "kernelspec": {
   "display_name": "nda2",
   "language": "python",
   "name": "python3"
  },
  "language_info": {
   "codemirror_mode": {
    "name": "ipython",
    "version": 3
   },
   "file_extension": ".py",
   "mimetype": "text/x-python",
   "name": "python",
   "nbconvert_exporter": "python",
   "pygments_lexer": "ipython3",
   "version": "3.12.4"
  }
 },
 "nbformat": 4,
 "nbformat_minor": 2
}
